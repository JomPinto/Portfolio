{
 "cells": [
  {
   "cell_type": "markdown",
   "id": "international-platform",
   "metadata": {},
   "source": [
    "# **Project 1 - Statistical Inference**\n",
    "In the recent [report of the World Health Organization](https://www.who.int/news-room/fact-sheets/detail/the-top-10-causes-of-death) in 2020, \n",
    "Diabetes has entered the top 10 causes of death worldwide in the year 2019. It ranked 9th overall and cause over 1.5 million deaths worldwide. \n",
    "Until now, there is no know cure for diabetes however there are some ways to prevent or delay the onset of this disease. With this, we decided \n",
    "to explore and analyze a dataset that focuses on a survey regarding diabetes. \n",
    "\n",
    "---"
   ]
  },
  {
   "cell_type": "markdown",
   "id": "descending-delight",
   "metadata": {},
   "source": [
    "## Import Libraries"
   ]
  },
  {
   "cell_type": "code",
   "execution_count": 1,
   "id": "explicit-salem",
   "metadata": {},
   "outputs": [],
   "source": [
    "import numpy as np\n",
    "import pandas as pd\n",
    "import matplotlib.pyplot as plt\n",
    "from scipy.stats import norm\n",
    "from scipy.stats import ttest_ind\n",
    "from scipy.stats import chi2_contingency"
   ]
  },
  {
   "cell_type": "markdown",
   "id": "painful-sussex",
   "metadata": {},
   "source": [
    "# 1. Diabetes Health Indicators Dataset"
   ]
  },
  {
   "cell_type": "markdown",
   "id": "honey-combining",
   "metadata": {},
   "source": [
    "This dataset is based from the annual landline and cellphone health related survey conducted by Centers for Disease Control and Prevention (CDC) called The Behavioral Risk Factor Surveillance System (BRFSS). This survey collects data for over 400,000 U.S. residents regarding their health conditions, health-related behaviours and preventive services available to them. Originally, the survey was conducted through telephone and cellphone but with the emerging changes in culture and technology they also incorporated additional methods in collecting data. This includes conducting the survey online and by sending a packaged that includes a paper version of the survey. For more information regarding the data colletction and research results you can visit the [BRFSS Web site](https://www.openintro.org/redirect.php?go=cdc_data_brfss&referrer=data_set_page).\n",
    "\n",
    "Originally, we planned to used the original dataset from BRFSS but since it consist of mroe than 400,000 observations and 330 variables the notebook can't handle the size of the dataset. The dataset we used called [Diabetes Health Indicators Dataset](https://www.kaggle.com/alexteboul/diabetes-health-indicators-dataset?select=diabetes_012_health_indicators_BRFSS2015.csv) is a cleaned dataset based from the 2015 BRFSS survey available in Kaggle. The process for the data cleaning is available in this [notebook](https://www.kaggle.com/alexteboul/diabetes-health-indicators-dataset-notebook). This dataset is composed of 253,680 responses which primarily focuses on data regarding diabetes and its health indicators. There are 22 variables including the target variable diabetes. This sample is composed of randomly selected U.S. residents from each state by using random digit dialing sampling. This sampling method includes unlisted respondents in the phone book. Thus our conclusion and insight would only be applicable to U.S. residents.\n",
    "\n",
    "The first 5 observations of the dateset is shown below along with some information regarding the about the dataset."
   ]
  },
  {
   "cell_type": "code",
   "execution_count": 67,
   "id": "threaded-sheffield",
   "metadata": {},
   "outputs": [
    {
     "data": {
      "text/html": [
       "<div>\n",
       "<style scoped>\n",
       "    .dataframe tbody tr th:only-of-type {\n",
       "        vertical-align: middle;\n",
       "    }\n",
       "\n",
       "    .dataframe tbody tr th {\n",
       "        vertical-align: top;\n",
       "    }\n",
       "\n",
       "    .dataframe thead th {\n",
       "        text-align: right;\n",
       "    }\n",
       "</style>\n",
       "<table border=\"1\" class=\"dataframe\">\n",
       "  <thead>\n",
       "    <tr style=\"text-align: right;\">\n",
       "      <th></th>\n",
       "      <th>Diabetes_012</th>\n",
       "      <th>HighBP</th>\n",
       "      <th>HighChol</th>\n",
       "      <th>CholCheck</th>\n",
       "      <th>BMI</th>\n",
       "      <th>Smoker</th>\n",
       "      <th>Stroke</th>\n",
       "      <th>HeartDiseaseorAttack</th>\n",
       "      <th>PhysActivity</th>\n",
       "      <th>Fruits</th>\n",
       "      <th>...</th>\n",
       "      <th>AnyHealthcare</th>\n",
       "      <th>NoDocbcCost</th>\n",
       "      <th>GenHlth</th>\n",
       "      <th>MentHlth</th>\n",
       "      <th>PhysHlth</th>\n",
       "      <th>DiffWalk</th>\n",
       "      <th>Sex</th>\n",
       "      <th>Age</th>\n",
       "      <th>Education</th>\n",
       "      <th>Income</th>\n",
       "    </tr>\n",
       "  </thead>\n",
       "  <tbody>\n",
       "    <tr>\n",
       "      <th>0</th>\n",
       "      <td>0.0</td>\n",
       "      <td>1.0</td>\n",
       "      <td>1.0</td>\n",
       "      <td>1.0</td>\n",
       "      <td>40.0</td>\n",
       "      <td>1.0</td>\n",
       "      <td>0.0</td>\n",
       "      <td>0.0</td>\n",
       "      <td>0.0</td>\n",
       "      <td>0.0</td>\n",
       "      <td>...</td>\n",
       "      <td>1.0</td>\n",
       "      <td>0.0</td>\n",
       "      <td>5.0</td>\n",
       "      <td>18.0</td>\n",
       "      <td>15.0</td>\n",
       "      <td>1.0</td>\n",
       "      <td>0.0</td>\n",
       "      <td>9.0</td>\n",
       "      <td>4.0</td>\n",
       "      <td>3.0</td>\n",
       "    </tr>\n",
       "    <tr>\n",
       "      <th>1</th>\n",
       "      <td>0.0</td>\n",
       "      <td>0.0</td>\n",
       "      <td>0.0</td>\n",
       "      <td>0.0</td>\n",
       "      <td>25.0</td>\n",
       "      <td>1.0</td>\n",
       "      <td>0.0</td>\n",
       "      <td>0.0</td>\n",
       "      <td>1.0</td>\n",
       "      <td>0.0</td>\n",
       "      <td>...</td>\n",
       "      <td>0.0</td>\n",
       "      <td>1.0</td>\n",
       "      <td>3.0</td>\n",
       "      <td>0.0</td>\n",
       "      <td>0.0</td>\n",
       "      <td>0.0</td>\n",
       "      <td>0.0</td>\n",
       "      <td>7.0</td>\n",
       "      <td>6.0</td>\n",
       "      <td>1.0</td>\n",
       "    </tr>\n",
       "    <tr>\n",
       "      <th>2</th>\n",
       "      <td>0.0</td>\n",
       "      <td>1.0</td>\n",
       "      <td>1.0</td>\n",
       "      <td>1.0</td>\n",
       "      <td>28.0</td>\n",
       "      <td>0.0</td>\n",
       "      <td>0.0</td>\n",
       "      <td>0.0</td>\n",
       "      <td>0.0</td>\n",
       "      <td>1.0</td>\n",
       "      <td>...</td>\n",
       "      <td>1.0</td>\n",
       "      <td>1.0</td>\n",
       "      <td>5.0</td>\n",
       "      <td>30.0</td>\n",
       "      <td>30.0</td>\n",
       "      <td>1.0</td>\n",
       "      <td>0.0</td>\n",
       "      <td>9.0</td>\n",
       "      <td>4.0</td>\n",
       "      <td>8.0</td>\n",
       "    </tr>\n",
       "    <tr>\n",
       "      <th>3</th>\n",
       "      <td>0.0</td>\n",
       "      <td>1.0</td>\n",
       "      <td>0.0</td>\n",
       "      <td>1.0</td>\n",
       "      <td>27.0</td>\n",
       "      <td>0.0</td>\n",
       "      <td>0.0</td>\n",
       "      <td>0.0</td>\n",
       "      <td>1.0</td>\n",
       "      <td>1.0</td>\n",
       "      <td>...</td>\n",
       "      <td>1.0</td>\n",
       "      <td>0.0</td>\n",
       "      <td>2.0</td>\n",
       "      <td>0.0</td>\n",
       "      <td>0.0</td>\n",
       "      <td>0.0</td>\n",
       "      <td>0.0</td>\n",
       "      <td>11.0</td>\n",
       "      <td>3.0</td>\n",
       "      <td>6.0</td>\n",
       "    </tr>\n",
       "    <tr>\n",
       "      <th>4</th>\n",
       "      <td>0.0</td>\n",
       "      <td>1.0</td>\n",
       "      <td>1.0</td>\n",
       "      <td>1.0</td>\n",
       "      <td>24.0</td>\n",
       "      <td>0.0</td>\n",
       "      <td>0.0</td>\n",
       "      <td>0.0</td>\n",
       "      <td>1.0</td>\n",
       "      <td>1.0</td>\n",
       "      <td>...</td>\n",
       "      <td>1.0</td>\n",
       "      <td>0.0</td>\n",
       "      <td>2.0</td>\n",
       "      <td>3.0</td>\n",
       "      <td>0.0</td>\n",
       "      <td>0.0</td>\n",
       "      <td>0.0</td>\n",
       "      <td>11.0</td>\n",
       "      <td>5.0</td>\n",
       "      <td>4.0</td>\n",
       "    </tr>\n",
       "  </tbody>\n",
       "</table>\n",
       "<p>5 rows × 22 columns</p>\n",
       "</div>"
      ],
      "text/plain": [
       "   Diabetes_012  HighBP  HighChol  CholCheck   BMI  Smoker  Stroke  \\\n",
       "0           0.0     1.0       1.0        1.0  40.0     1.0     0.0   \n",
       "1           0.0     0.0       0.0        0.0  25.0     1.0     0.0   \n",
       "2           0.0     1.0       1.0        1.0  28.0     0.0     0.0   \n",
       "3           0.0     1.0       0.0        1.0  27.0     0.0     0.0   \n",
       "4           0.0     1.0       1.0        1.0  24.0     0.0     0.0   \n",
       "\n",
       "   HeartDiseaseorAttack  PhysActivity  Fruits  ...  AnyHealthcare  \\\n",
       "0                   0.0           0.0     0.0  ...            1.0   \n",
       "1                   0.0           1.0     0.0  ...            0.0   \n",
       "2                   0.0           0.0     1.0  ...            1.0   \n",
       "3                   0.0           1.0     1.0  ...            1.0   \n",
       "4                   0.0           1.0     1.0  ...            1.0   \n",
       "\n",
       "   NoDocbcCost  GenHlth  MentHlth  PhysHlth  DiffWalk  Sex   Age  Education  \\\n",
       "0          0.0      5.0      18.0      15.0       1.0  0.0   9.0        4.0   \n",
       "1          1.0      3.0       0.0       0.0       0.0  0.0   7.0        6.0   \n",
       "2          1.0      5.0      30.0      30.0       1.0  0.0   9.0        4.0   \n",
       "3          0.0      2.0       0.0       0.0       0.0  0.0  11.0        3.0   \n",
       "4          0.0      2.0       3.0       0.0       0.0  0.0  11.0        5.0   \n",
       "\n",
       "   Income  \n",
       "0     3.0  \n",
       "1     1.0  \n",
       "2     8.0  \n",
       "3     6.0  \n",
       "4     4.0  \n",
       "\n",
       "[5 rows x 22 columns]"
      ]
     },
     "execution_count": 67,
     "metadata": {},
     "output_type": "execute_result"
    }
   ],
   "source": [
    "# Generating the first 5 observations of the dataset\n",
    "\n",
    "diabetes_df = pd.read_csv(\"diabetes_012_health_indicators_BRFSS2015.csv\")\n",
    "diabetes_df.head()"
   ]
  },
  {
   "cell_type": "code",
   "execution_count": 3,
   "id": "impaired-denver",
   "metadata": {},
   "outputs": [
    {
     "name": "stdout",
     "output_type": "stream",
     "text": [
      "<class 'pandas.core.frame.DataFrame'>\n",
      "RangeIndex: 253680 entries, 0 to 253679\n",
      "Data columns (total 22 columns):\n",
      " #   Column                Non-Null Count   Dtype  \n",
      "---  ------                --------------   -----  \n",
      " 0   Diabetes_012          253680 non-null  float64\n",
      " 1   HighBP                253680 non-null  float64\n",
      " 2   HighChol              253680 non-null  float64\n",
      " 3   CholCheck             253680 non-null  float64\n",
      " 4   BMI                   253680 non-null  float64\n",
      " 5   Smoker                253680 non-null  float64\n",
      " 6   Stroke                253680 non-null  float64\n",
      " 7   HeartDiseaseorAttack  253680 non-null  float64\n",
      " 8   PhysActivity          253680 non-null  float64\n",
      " 9   Fruits                253680 non-null  float64\n",
      " 10  Veggies               253680 non-null  float64\n",
      " 11  HvyAlcoholConsump     253680 non-null  float64\n",
      " 12  AnyHealthcare         253680 non-null  float64\n",
      " 13  NoDocbcCost           253680 non-null  float64\n",
      " 14  GenHlth               253680 non-null  float64\n",
      " 15  MentHlth              253680 non-null  float64\n",
      " 16  PhysHlth              253680 non-null  float64\n",
      " 17  DiffWalk              253680 non-null  float64\n",
      " 18  Sex                   253680 non-null  float64\n",
      " 19  Age                   253680 non-null  float64\n",
      " 20  Education             253680 non-null  float64\n",
      " 21  Income                253680 non-null  float64\n",
      "dtypes: float64(22)\n",
      "memory usage: 42.6 MB\n"
     ]
    }
   ],
   "source": [
    "# Generating information regarding the dataset\n",
    "\n",
    "diabetes_df.info()"
   ]
  },
  {
   "cell_type": "markdown",
   "id": "developing-reality",
   "metadata": {},
   "source": [
    "## 1.1. Observations\n",
    "The row in this dataset represent the observation. Each observation is a response from the The Behavioral Risk Factor Surveillance System (BRFSS) which is a health-related telephone survey that is collected annually by the CDC. A total of 253,680 responses of U.S. residents from different states was recorded."
   ]
  },
  {
   "cell_type": "markdown",
   "id": "guilty-insurance",
   "metadata": {},
   "source": [
    "## 1.2. Description of the Variables\n",
    "A total of 22 variables was recorded in this dataset. These variables includes our target variable which is diabetes (whether the respondetns has a diabets, prediabets or none), respondent's health-related risk behaviors, and health indicators. Note that since the survey was primarily through landline and cellphone, its easier to record using numbers. Thus, each categorical data was represented using integers in the dateset. The description for the variables used was explained below. "
   ]
  },
  {
   "cell_type": "markdown",
   "id": "velvet-graph",
   "metadata": {},
   "source": [
    "- **`Diabetes_012`**: Diabetic status of the respondent\n",
    "    - 0 - No diabetes \n",
    "    - 1 - Prediabetes \n",
    "    - 2 - Diabetes\n",
    "- **`HighBP`**: Respondent's blood pressure level told by a doctor, nurse, or other health professional\n",
    "    - 0 - No high BP \n",
    "    - 1 - High BP\n",
    "- **`HighChol`**: Respondent's cholesterol level told by a doctor, nurse, or other health professional\n",
    "    - 0 - No high cholesterol \n",
    "    - 1 - High cholesterol\n",
    "- **`CholCheck`**: Cholesterol check within 5 years\n",
    "    - 0 - Without cholesterol check in 5 years \n",
    "    - 1 - With cholesterol check in 5 years\n",
    "- **`BMI`**: Body Mass Index of the respondent (rounded off)\n",
    "- **`Smoker`**: Smoked at least 100 cigarettes in your entire life? [Note: 5 packs = 100 cigarettes] \n",
    "    - 0 - No\n",
    "    - 1 - Yes\n",
    "- **`Stroke`**: If the respondents had a stroke\n",
    "    - 0 - No\n",
    "    - 1 - Yes\n",
    "- **`HeartDiseaseorAttack`**: Has a record of coronary heart disease (CHD) or myocardial infarction (MI) \n",
    "    - 0 - No\n",
    "    - 1 - Yes\n",
    "- **`PhysActivity`**: Undergone physical activity in past 30 days (not including job)\n",
    "    - 0 - No\n",
    "    - 1 - Yes\n",
    "- **`Fruits`**: Consume Fruit 1 or more times per day\n",
    "    - 0 - No\n",
    "    - 1 - Yes\n",
    "- **`Veggies`**: Consume Vegetables 1 or more times per day\n",
    "    - 0 - No\n",
    "    - 1 - Yes\n",
    "- **`HvyAlcoholConsump`**: Heavy drinkers (consumed more than 14 drinks per week for adult men or more than 7 drinks per week for adult women)\n",
    "    - 0 - No\n",
    "    - 1 - Yes\n",
    "- **`AnyHealthcare`**: Have any kind of health care coverage, including health insurance, prepaid plans such as HMO, etc.\n",
    "    - 0 - No\n",
    "    - 1 - Yes\n",
    "- **`NoDocbcCost`**: Was there a time in the past 12 months when you needed to see a doctor but could not because of cost?\n",
    "    - 0 - No\n",
    "    - 1 - Yes\n",
    "- **`GenHlth`**: Would you say that in general your health is\n",
    "    - 1 - Excellent \n",
    "    - 2 - Very good \n",
    "    - 3 - Good \n",
    "    - 4 - Fair \n",
    "    - 5 - Poor\n",
    "- **`MentHlth`**: Now thinking about your mental health, which includes stress, depression, and problems with emotions, for how many days during the past 30 days was your mental health not good? (scale 1-30) \n",
    "- **`PhysHlth`**: Now thinking about your physical health, which includes physical illness and injury, for how many days during the past 30 days was your physical health not good? (scale 1-30)\n",
    "- **`DiffWalk`**: Do you have serious difficulty walking or climbing stairs? \n",
    "    - 0 - No\n",
    "    - 1 - Yes\n",
    "- **`Sex`**: Respnodent's sex\n",
    "    - 0 - Female\n",
    "    - 1 - Male\n",
    "- **`Age`**: Respondent's age\n",
    "    - 1 - Age 18 to 24\n",
    "    - 2 - Age 25 to 29\n",
    "    - 3 - Age 30 to 34\n",
    "    - 4 - Age 35 to 39\n",
    "    - 5 - Age 40 to 44\n",
    "    - 6 - Age 45 to 49\n",
    "    - 7 - Age 50 to 54\n",
    "    - 8 - Age 55 to 59\n",
    "    - 9 - Age 60 to 64\n",
    "    - 10 - Age 65 to 69\n",
    "    - 11 - Age 70 to 74\n",
    "    - 12 - Age 75 to 79\n",
    "    - 13 - Age 80 or older\n",
    "- **`Education`**: Education level\n",
    "    - 1 - Never attended school or only kindergarten\n",
    "    - 2 - Grades 1 through 8 (Elementary)\n",
    "    - 3 - Grades 9 through 11 (Some high school)\n",
    "    - 4 - Grade 12 or GED (High school graduate)\n",
    "    - 5 - College 1 year to 3 years (Some college or technical school)\n",
    "    - 6 - College 4 years or more (College graduate)\n",
    "- **`Income`**: Income scale \n",
    "    - 1 - Less than 10,000\n",
    "    - 2 - 10,000 to less than 15,000\n",
    "    - 3 - 15,000 to less than 20,000\n",
    "    - 4 - 20,000 to less than 25,000\n",
    "    - 5 - 25,000 to less than 35,000\n",
    "    - 6 - 35,000 to less than 20,000\n",
    "    - 7 - 50,000 to less than 75,000\n",
    "    - 8 - More than 75,000"
   ]
  },
  {
   "cell_type": "markdown",
   "id": "actual-attribute",
   "metadata": {},
   "source": [
    "# 2. Data Cleaning\n",
    "The dataset we will be using is already cleaned. The process for the data cleaning is available in this [notebook](https://www.kaggle.com/alexteboul/diabetes-health-indicators-dataset-notebook). To summarize the following data cleaning methods was performed on the original dataset:\n",
    "1. Dropping observations with missing values. \n",
    "    - Observations with missing values in these 22 variables were dropped. \n",
    "    - Responses with \"don't know\" or they \"refused\" to answer were also dropped.\n",
    "2. Edited the formating of the values.\n",
    "    - The main goal of the author of the clean database is to be able to feed this dataset to a machine learning algotihms. That's why he formatted the values for categorical variables with 0,1 and so on.\n",
    "3. Edited the names of the variable.\n",
    "    - Lastly, he edited the names of the variable to make it more readable.\n",
    "\n",
    "These are the data cleaning method he used in the dataset. We still need to check for duplicate data, multiple representation of the same categorical value, and if the datatype of the varaible is correct.  "
   ]
  },
  {
   "cell_type": "markdown",
   "id": "developed-remove",
   "metadata": {},
   "source": [
    "## 2.1. Checking the datatype of each variable\n",
    "First we wanted to check if the datatype of our target variable were correct. In particular, we wanted to check the datatype of variables `Diabetes_012`, `BMI`, `PhysActivity`, and `Income`."
   ]
  },
  {
   "cell_type": "code",
   "execution_count": 4,
   "id": "academic-waterproof",
   "metadata": {},
   "outputs": [],
   "source": [
    "# Copying the dateframe\n",
    "\n",
    "diabetes_dfCopy = diabetes_df.copy()"
   ]
  },
  {
   "cell_type": "code",
   "execution_count": 5,
   "id": "refined-legend",
   "metadata": {},
   "outputs": [
    {
     "name": "stdout",
     "output_type": "stream",
     "text": [
      "<class 'pandas.core.frame.DataFrame'>\n",
      "RangeIndex: 253680 entries, 0 to 253679\n",
      "Data columns (total 22 columns):\n",
      " #   Column                Non-Null Count   Dtype  \n",
      "---  ------                --------------   -----  \n",
      " 0   Diabetes_012          253680 non-null  float64\n",
      " 1   HighBP                253680 non-null  float64\n",
      " 2   HighChol              253680 non-null  float64\n",
      " 3   CholCheck             253680 non-null  float64\n",
      " 4   BMI                   253680 non-null  float64\n",
      " 5   Smoker                253680 non-null  float64\n",
      " 6   Stroke                253680 non-null  float64\n",
      " 7   HeartDiseaseorAttack  253680 non-null  float64\n",
      " 8   PhysActivity          253680 non-null  float64\n",
      " 9   Fruits                253680 non-null  float64\n",
      " 10  Veggies               253680 non-null  float64\n",
      " 11  HvyAlcoholConsump     253680 non-null  float64\n",
      " 12  AnyHealthcare         253680 non-null  float64\n",
      " 13  NoDocbcCost           253680 non-null  float64\n",
      " 14  GenHlth               253680 non-null  float64\n",
      " 15  MentHlth              253680 non-null  float64\n",
      " 16  PhysHlth              253680 non-null  float64\n",
      " 17  DiffWalk              253680 non-null  float64\n",
      " 18  Sex                   253680 non-null  float64\n",
      " 19  Age                   253680 non-null  float64\n",
      " 20  Education             253680 non-null  float64\n",
      " 21  Income                253680 non-null  float64\n",
      "dtypes: float64(22)\n",
      "memory usage: 42.6 MB\n"
     ]
    }
   ],
   "source": [
    "# Checking the datatypes of the variables\n",
    "\n",
    "diabetes_dfCopy.info()"
   ]
  },
  {
   "cell_type": "markdown",
   "id": "sunrise-demonstration",
   "metadata": {},
   "source": [
    "Note that all our desired variables are categorical except BMI. Moreover, they are represented using integers. THus having float64 as its datatypes is not necessary. Furthermore, the variable BMI is also in integer form since the values in this column was rounded off. Therefore we want to change the datatype of all our target variables to int64. This will make our EDA much easier to understand compared to having a float as values."
   ]
  },
  {
   "cell_type": "code",
   "execution_count": 6,
   "id": "sound-uzbekistan",
   "metadata": {},
   "outputs": [
    {
     "name": "stdout",
     "output_type": "stream",
     "text": [
      "<class 'pandas.core.frame.DataFrame'>\n",
      "RangeIndex: 253680 entries, 0 to 253679\n",
      "Data columns (total 22 columns):\n",
      " #   Column                Non-Null Count   Dtype  \n",
      "---  ------                --------------   -----  \n",
      " 0   Diabetes_012          253680 non-null  int64  \n",
      " 1   HighBP                253680 non-null  float64\n",
      " 2   HighChol              253680 non-null  float64\n",
      " 3   CholCheck             253680 non-null  float64\n",
      " 4   BMI                   253680 non-null  int64  \n",
      " 5   Smoker                253680 non-null  float64\n",
      " 6   Stroke                253680 non-null  float64\n",
      " 7   HeartDiseaseorAttack  253680 non-null  float64\n",
      " 8   PhysActivity          253680 non-null  int64  \n",
      " 9   Fruits                253680 non-null  float64\n",
      " 10  Veggies               253680 non-null  float64\n",
      " 11  HvyAlcoholConsump     253680 non-null  float64\n",
      " 12  AnyHealthcare         253680 non-null  float64\n",
      " 13  NoDocbcCost           253680 non-null  float64\n",
      " 14  GenHlth               253680 non-null  float64\n",
      " 15  MentHlth              253680 non-null  float64\n",
      " 16  PhysHlth              253680 non-null  float64\n",
      " 17  DiffWalk              253680 non-null  float64\n",
      " 18  Sex                   253680 non-null  float64\n",
      " 19  Age                   253680 non-null  float64\n",
      " 20  Education             253680 non-null  float64\n",
      " 21  Income                253680 non-null  int64  \n",
      "dtypes: float64(18), int64(4)\n",
      "memory usage: 42.6 MB\n"
     ]
    }
   ],
   "source": [
    "# Converting the datatype for the target variables\n",
    "\n",
    "diabetes_dfCopy['Diabetes_012'] = diabetes_dfCopy['Diabetes_012'].astype('int64')\n",
    "diabetes_dfCopy['PhysActivity'] = diabetes_dfCopy['PhysActivity'].astype('int64')\n",
    "diabetes_dfCopy['BMI'] = diabetes_dfCopy['BMI'].astype('int64')\n",
    "diabetes_dfCopy['Income'] = diabetes_dfCopy['Income'].astype('int64')\n",
    "diabetes_dfCopy.info()"
   ]
  },
  {
   "cell_type": "markdown",
   "id": "complex-thing",
   "metadata": {},
   "source": [
    "## 2.2. Checking for multiple representations\n",
    "Next, we wanted to determine if there are multiple representations of the same categoriacal value using the ***'uniquel()'*** function. In particular, we wanted to check if there are multiple representations in the variables `Diabetes_012`, `PhysActivity`, and `Income`."
   ]
  },
  {
   "cell_type": "code",
   "execution_count": 7,
   "id": "hawaiian-stack",
   "metadata": {},
   "outputs": [
    {
     "data": {
      "text/plain": [
       "array([0, 2, 1], dtype=int64)"
      ]
     },
     "execution_count": 7,
     "metadata": {},
     "output_type": "execute_result"
    }
   ],
   "source": [
    "# Checking Unique values for the variable Diabetes_012\n",
    "\n",
    "diabetes_dfCopy['Diabetes_012'].unique()"
   ]
  },
  {
   "cell_type": "code",
   "execution_count": 8,
   "id": "passive-writer",
   "metadata": {},
   "outputs": [
    {
     "data": {
      "text/plain": [
       "array([0, 1], dtype=int64)"
      ]
     },
     "execution_count": 8,
     "metadata": {},
     "output_type": "execute_result"
    }
   ],
   "source": [
    "# Checking Unique values for the variable PhysActivity\n",
    "\n",
    "diabetes_dfCopy['PhysActivity'].unique()"
   ]
  },
  {
   "cell_type": "code",
   "execution_count": 9,
   "id": "formed-worse",
   "metadata": {},
   "outputs": [
    {
     "data": {
      "text/plain": [
       "array([3, 1, 8, 6, 4, 7, 2, 5], dtype=int64)"
      ]
     },
     "execution_count": 9,
     "metadata": {},
     "output_type": "execute_result"
    }
   ],
   "source": [
    "# Checking Unique values for the variable Income\n",
    "\n",
    "diabetes_dfCopy['Income'].unique()"
   ]
  },
  {
   "cell_type": "markdown",
   "id": "ultimate-commissioner",
   "metadata": {},
   "source": [
    "As we can see from above, there are no multiple representations for each variable that contains a categorical value. "
   ]
  },
  {
   "cell_type": "markdown",
   "id": "available-composition",
   "metadata": {},
   "source": [
    "## 2.3. Checking for missing data\n",
    "Even though we know that the author of the clean dataset already removed all the missing data. We still decided to further check if there are missing data in each variables. To check whether there are missing data in each variable, we call the ***'isnull()'*** function. If there are any missing data in any variable it will return a value of ***True***, and ***False*** if there are no missing data in any variable."
   ]
  },
  {
   "cell_type": "code",
   "execution_count": 10,
   "id": "announced-jungle",
   "metadata": {},
   "outputs": [
    {
     "data": {
      "text/plain": [
       "Diabetes_012            False\n",
       "HighBP                  False\n",
       "HighChol                False\n",
       "CholCheck               False\n",
       "BMI                     False\n",
       "Smoker                  False\n",
       "Stroke                  False\n",
       "HeartDiseaseorAttack    False\n",
       "PhysActivity            False\n",
       "Fruits                  False\n",
       "Veggies                 False\n",
       "HvyAlcoholConsump       False\n",
       "AnyHealthcare           False\n",
       "NoDocbcCost             False\n",
       "GenHlth                 False\n",
       "MentHlth                False\n",
       "PhysHlth                False\n",
       "DiffWalk                False\n",
       "Sex                     False\n",
       "Age                     False\n",
       "Education               False\n",
       "Income                  False\n",
       "dtype: bool"
      ]
     },
     "execution_count": 10,
     "metadata": {},
     "output_type": "execute_result"
    }
   ],
   "source": [
    "# Checking for missing data in each variables\n",
    "\n",
    "diabetes_dfCopy.isnull().any()"
   ]
  },
  {
   "cell_type": "markdown",
   "id": "foster-leone",
   "metadata": {},
   "source": [
    "We can see above, there are no missing data for any variable."
   ]
  },
  {
   "cell_type": "markdown",
   "id": "colonial-outside",
   "metadata": {},
   "source": [
    "## 2.4. Checking for duplicate data\n",
    "Lastly, we check if there are any duplicate rows in the dataframe. For this, we use the ***'duplicated()'*** function to determine whether there are duplicates in the dataframe."
   ]
  },
  {
   "cell_type": "code",
   "execution_count": 11,
   "id": "radio-drunk",
   "metadata": {},
   "outputs": [
    {
     "data": {
      "text/plain": [
       "True"
      ]
     },
     "execution_count": 11,
     "metadata": {},
     "output_type": "execute_result"
    }
   ],
   "source": [
    "# Checking if there are any duplicates in the dataframe\n",
    "\n",
    "diabetes_dfCopy.duplicated(keep=False).any()"
   ]
  },
  {
   "cell_type": "code",
   "execution_count": 12,
   "id": "weekly-charger",
   "metadata": {},
   "outputs": [
    {
     "data": {
      "text/html": [
       "<div>\n",
       "<style scoped>\n",
       "    .dataframe tbody tr th:only-of-type {\n",
       "        vertical-align: middle;\n",
       "    }\n",
       "\n",
       "    .dataframe tbody tr th {\n",
       "        vertical-align: top;\n",
       "    }\n",
       "\n",
       "    .dataframe thead th {\n",
       "        text-align: right;\n",
       "    }\n",
       "</style>\n",
       "<table border=\"1\" class=\"dataframe\">\n",
       "  <thead>\n",
       "    <tr style=\"text-align: right;\">\n",
       "      <th></th>\n",
       "      <th>Diabetes_012</th>\n",
       "      <th>HighBP</th>\n",
       "      <th>HighChol</th>\n",
       "      <th>CholCheck</th>\n",
       "      <th>BMI</th>\n",
       "      <th>Smoker</th>\n",
       "      <th>Stroke</th>\n",
       "      <th>HeartDiseaseorAttack</th>\n",
       "      <th>PhysActivity</th>\n",
       "      <th>Fruits</th>\n",
       "      <th>...</th>\n",
       "      <th>AnyHealthcare</th>\n",
       "      <th>NoDocbcCost</th>\n",
       "      <th>GenHlth</th>\n",
       "      <th>MentHlth</th>\n",
       "      <th>PhysHlth</th>\n",
       "      <th>DiffWalk</th>\n",
       "      <th>Sex</th>\n",
       "      <th>Age</th>\n",
       "      <th>Education</th>\n",
       "      <th>Income</th>\n",
       "    </tr>\n",
       "  </thead>\n",
       "  <tbody>\n",
       "    <tr>\n",
       "      <th>5</th>\n",
       "      <td>0</td>\n",
       "      <td>1.0</td>\n",
       "      <td>1.0</td>\n",
       "      <td>1.0</td>\n",
       "      <td>25</td>\n",
       "      <td>1.0</td>\n",
       "      <td>0.0</td>\n",
       "      <td>0.0</td>\n",
       "      <td>1</td>\n",
       "      <td>1.0</td>\n",
       "      <td>...</td>\n",
       "      <td>1.0</td>\n",
       "      <td>0.0</td>\n",
       "      <td>2.0</td>\n",
       "      <td>0.0</td>\n",
       "      <td>2.0</td>\n",
       "      <td>0.0</td>\n",
       "      <td>1.0</td>\n",
       "      <td>10.0</td>\n",
       "      <td>6.0</td>\n",
       "      <td>8</td>\n",
       "    </tr>\n",
       "    <tr>\n",
       "      <th>25</th>\n",
       "      <td>0</td>\n",
       "      <td>0.0</td>\n",
       "      <td>0.0</td>\n",
       "      <td>1.0</td>\n",
       "      <td>32</td>\n",
       "      <td>0.0</td>\n",
       "      <td>0.0</td>\n",
       "      <td>0.0</td>\n",
       "      <td>1</td>\n",
       "      <td>1.0</td>\n",
       "      <td>...</td>\n",
       "      <td>1.0</td>\n",
       "      <td>0.0</td>\n",
       "      <td>2.0</td>\n",
       "      <td>0.0</td>\n",
       "      <td>0.0</td>\n",
       "      <td>0.0</td>\n",
       "      <td>0.0</td>\n",
       "      <td>5.0</td>\n",
       "      <td>6.0</td>\n",
       "      <td>8</td>\n",
       "    </tr>\n",
       "    <tr>\n",
       "      <th>29</th>\n",
       "      <td>0</td>\n",
       "      <td>0.0</td>\n",
       "      <td>1.0</td>\n",
       "      <td>1.0</td>\n",
       "      <td>31</td>\n",
       "      <td>1.0</td>\n",
       "      <td>0.0</td>\n",
       "      <td>0.0</td>\n",
       "      <td>1</td>\n",
       "      <td>1.0</td>\n",
       "      <td>...</td>\n",
       "      <td>1.0</td>\n",
       "      <td>0.0</td>\n",
       "      <td>1.0</td>\n",
       "      <td>0.0</td>\n",
       "      <td>0.0</td>\n",
       "      <td>0.0</td>\n",
       "      <td>1.0</td>\n",
       "      <td>12.0</td>\n",
       "      <td>6.0</td>\n",
       "      <td>8</td>\n",
       "    </tr>\n",
       "    <tr>\n",
       "      <th>44</th>\n",
       "      <td>0</td>\n",
       "      <td>0.0</td>\n",
       "      <td>1.0</td>\n",
       "      <td>1.0</td>\n",
       "      <td>31</td>\n",
       "      <td>1.0</td>\n",
       "      <td>0.0</td>\n",
       "      <td>0.0</td>\n",
       "      <td>0</td>\n",
       "      <td>1.0</td>\n",
       "      <td>...</td>\n",
       "      <td>1.0</td>\n",
       "      <td>0.0</td>\n",
       "      <td>2.0</td>\n",
       "      <td>0.0</td>\n",
       "      <td>0.0</td>\n",
       "      <td>0.0</td>\n",
       "      <td>0.0</td>\n",
       "      <td>8.0</td>\n",
       "      <td>5.0</td>\n",
       "      <td>8</td>\n",
       "    </tr>\n",
       "    <tr>\n",
       "      <th>52</th>\n",
       "      <td>2</td>\n",
       "      <td>1.0</td>\n",
       "      <td>1.0</td>\n",
       "      <td>1.0</td>\n",
       "      <td>27</td>\n",
       "      <td>1.0</td>\n",
       "      <td>0.0</td>\n",
       "      <td>0.0</td>\n",
       "      <td>0</td>\n",
       "      <td>0.0</td>\n",
       "      <td>...</td>\n",
       "      <td>1.0</td>\n",
       "      <td>0.0</td>\n",
       "      <td>5.0</td>\n",
       "      <td>0.0</td>\n",
       "      <td>30.0</td>\n",
       "      <td>1.0</td>\n",
       "      <td>0.0</td>\n",
       "      <td>10.0</td>\n",
       "      <td>4.0</td>\n",
       "      <td>5</td>\n",
       "    </tr>\n",
       "    <tr>\n",
       "      <th>...</th>\n",
       "      <td>...</td>\n",
       "      <td>...</td>\n",
       "      <td>...</td>\n",
       "      <td>...</td>\n",
       "      <td>...</td>\n",
       "      <td>...</td>\n",
       "      <td>...</td>\n",
       "      <td>...</td>\n",
       "      <td>...</td>\n",
       "      <td>...</td>\n",
       "      <td>...</td>\n",
       "      <td>...</td>\n",
       "      <td>...</td>\n",
       "      <td>...</td>\n",
       "      <td>...</td>\n",
       "      <td>...</td>\n",
       "      <td>...</td>\n",
       "      <td>...</td>\n",
       "      <td>...</td>\n",
       "      <td>...</td>\n",
       "      <td>...</td>\n",
       "    </tr>\n",
       "    <tr>\n",
       "      <th>253492</th>\n",
       "      <td>2</td>\n",
       "      <td>1.0</td>\n",
       "      <td>1.0</td>\n",
       "      <td>1.0</td>\n",
       "      <td>33</td>\n",
       "      <td>0.0</td>\n",
       "      <td>0.0</td>\n",
       "      <td>0.0</td>\n",
       "      <td>1</td>\n",
       "      <td>1.0</td>\n",
       "      <td>...</td>\n",
       "      <td>1.0</td>\n",
       "      <td>0.0</td>\n",
       "      <td>3.0</td>\n",
       "      <td>0.0</td>\n",
       "      <td>0.0</td>\n",
       "      <td>0.0</td>\n",
       "      <td>1.0</td>\n",
       "      <td>9.0</td>\n",
       "      <td>6.0</td>\n",
       "      <td>6</td>\n",
       "    </tr>\n",
       "    <tr>\n",
       "      <th>253550</th>\n",
       "      <td>0</td>\n",
       "      <td>0.0</td>\n",
       "      <td>0.0</td>\n",
       "      <td>1.0</td>\n",
       "      <td>25</td>\n",
       "      <td>0.0</td>\n",
       "      <td>0.0</td>\n",
       "      <td>0.0</td>\n",
       "      <td>1</td>\n",
       "      <td>1.0</td>\n",
       "      <td>...</td>\n",
       "      <td>1.0</td>\n",
       "      <td>0.0</td>\n",
       "      <td>1.0</td>\n",
       "      <td>0.0</td>\n",
       "      <td>0.0</td>\n",
       "      <td>0.0</td>\n",
       "      <td>0.0</td>\n",
       "      <td>7.0</td>\n",
       "      <td>6.0</td>\n",
       "      <td>8</td>\n",
       "    </tr>\n",
       "    <tr>\n",
       "      <th>253563</th>\n",
       "      <td>0</td>\n",
       "      <td>0.0</td>\n",
       "      <td>1.0</td>\n",
       "      <td>1.0</td>\n",
       "      <td>24</td>\n",
       "      <td>1.0</td>\n",
       "      <td>0.0</td>\n",
       "      <td>0.0</td>\n",
       "      <td>1</td>\n",
       "      <td>1.0</td>\n",
       "      <td>...</td>\n",
       "      <td>1.0</td>\n",
       "      <td>0.0</td>\n",
       "      <td>2.0</td>\n",
       "      <td>0.0</td>\n",
       "      <td>0.0</td>\n",
       "      <td>0.0</td>\n",
       "      <td>1.0</td>\n",
       "      <td>8.0</td>\n",
       "      <td>6.0</td>\n",
       "      <td>8</td>\n",
       "    </tr>\n",
       "    <tr>\n",
       "      <th>253597</th>\n",
       "      <td>0</td>\n",
       "      <td>0.0</td>\n",
       "      <td>0.0</td>\n",
       "      <td>1.0</td>\n",
       "      <td>24</td>\n",
       "      <td>0.0</td>\n",
       "      <td>0.0</td>\n",
       "      <td>0.0</td>\n",
       "      <td>1</td>\n",
       "      <td>1.0</td>\n",
       "      <td>...</td>\n",
       "      <td>1.0</td>\n",
       "      <td>0.0</td>\n",
       "      <td>2.0</td>\n",
       "      <td>0.0</td>\n",
       "      <td>0.0</td>\n",
       "      <td>0.0</td>\n",
       "      <td>0.0</td>\n",
       "      <td>5.0</td>\n",
       "      <td>6.0</td>\n",
       "      <td>8</td>\n",
       "    </tr>\n",
       "    <tr>\n",
       "      <th>253638</th>\n",
       "      <td>0</td>\n",
       "      <td>0.0</td>\n",
       "      <td>0.0</td>\n",
       "      <td>1.0</td>\n",
       "      <td>24</td>\n",
       "      <td>0.0</td>\n",
       "      <td>0.0</td>\n",
       "      <td>0.0</td>\n",
       "      <td>1</td>\n",
       "      <td>1.0</td>\n",
       "      <td>...</td>\n",
       "      <td>1.0</td>\n",
       "      <td>0.0</td>\n",
       "      <td>2.0</td>\n",
       "      <td>0.0</td>\n",
       "      <td>0.0</td>\n",
       "      <td>0.0</td>\n",
       "      <td>1.0</td>\n",
       "      <td>1.0</td>\n",
       "      <td>4.0</td>\n",
       "      <td>6</td>\n",
       "    </tr>\n",
       "  </tbody>\n",
       "</table>\n",
       "<p>35086 rows × 22 columns</p>\n",
       "</div>"
      ],
      "text/plain": [
       "        Diabetes_012  HighBP  HighChol  CholCheck  BMI  Smoker  Stroke  \\\n",
       "5                  0     1.0       1.0        1.0   25     1.0     0.0   \n",
       "25                 0     0.0       0.0        1.0   32     0.0     0.0   \n",
       "29                 0     0.0       1.0        1.0   31     1.0     0.0   \n",
       "44                 0     0.0       1.0        1.0   31     1.0     0.0   \n",
       "52                 2     1.0       1.0        1.0   27     1.0     0.0   \n",
       "...              ...     ...       ...        ...  ...     ...     ...   \n",
       "253492             2     1.0       1.0        1.0   33     0.0     0.0   \n",
       "253550             0     0.0       0.0        1.0   25     0.0     0.0   \n",
       "253563             0     0.0       1.0        1.0   24     1.0     0.0   \n",
       "253597             0     0.0       0.0        1.0   24     0.0     0.0   \n",
       "253638             0     0.0       0.0        1.0   24     0.0     0.0   \n",
       "\n",
       "        HeartDiseaseorAttack  PhysActivity  Fruits  ...  AnyHealthcare  \\\n",
       "5                        0.0             1     1.0  ...            1.0   \n",
       "25                       0.0             1     1.0  ...            1.0   \n",
       "29                       0.0             1     1.0  ...            1.0   \n",
       "44                       0.0             0     1.0  ...            1.0   \n",
       "52                       0.0             0     0.0  ...            1.0   \n",
       "...                      ...           ...     ...  ...            ...   \n",
       "253492                   0.0             1     1.0  ...            1.0   \n",
       "253550                   0.0             1     1.0  ...            1.0   \n",
       "253563                   0.0             1     1.0  ...            1.0   \n",
       "253597                   0.0             1     1.0  ...            1.0   \n",
       "253638                   0.0             1     1.0  ...            1.0   \n",
       "\n",
       "        NoDocbcCost  GenHlth  MentHlth  PhysHlth  DiffWalk  Sex   Age  \\\n",
       "5               0.0      2.0       0.0       2.0       0.0  1.0  10.0   \n",
       "25              0.0      2.0       0.0       0.0       0.0  0.0   5.0   \n",
       "29              0.0      1.0       0.0       0.0       0.0  1.0  12.0   \n",
       "44              0.0      2.0       0.0       0.0       0.0  0.0   8.0   \n",
       "52              0.0      5.0       0.0      30.0       1.0  0.0  10.0   \n",
       "...             ...      ...       ...       ...       ...  ...   ...   \n",
       "253492          0.0      3.0       0.0       0.0       0.0  1.0   9.0   \n",
       "253550          0.0      1.0       0.0       0.0       0.0  0.0   7.0   \n",
       "253563          0.0      2.0       0.0       0.0       0.0  1.0   8.0   \n",
       "253597          0.0      2.0       0.0       0.0       0.0  0.0   5.0   \n",
       "253638          0.0      2.0       0.0       0.0       0.0  1.0   1.0   \n",
       "\n",
       "        Education  Income  \n",
       "5             6.0       8  \n",
       "25            6.0       8  \n",
       "29            6.0       8  \n",
       "44            5.0       8  \n",
       "52            4.0       5  \n",
       "...           ...     ...  \n",
       "253492        6.0       6  \n",
       "253550        6.0       8  \n",
       "253563        6.0       8  \n",
       "253597        6.0       8  \n",
       "253638        4.0       6  \n",
       "\n",
       "[35086 rows x 22 columns]"
      ]
     },
     "execution_count": 12,
     "metadata": {},
     "output_type": "execute_result"
    }
   ],
   "source": [
    "# Printing all duplicates\n",
    "\n",
    "diabetes_Duplicates = diabetes_dfCopy[diabetes_dfCopy.duplicated(keep=False)]\n",
    "diabetes_Duplicates"
   ]
  },
  {
   "cell_type": "markdown",
   "id": "structured-proposition",
   "metadata": {},
   "source": [
    "As we can see from the code above, there are duplicates in the dataframe, but keep in mind that each row has no identifier (i.e. there is no way to identify if these duplicates came from the same respondents). We also note that it isn't impossible to have the same observations for each respondents. Therefore we won't remove these duplicates."
   ]
  },
  {
   "cell_type": "markdown",
   "id": "unusual-television",
   "metadata": {},
   "source": [
    "# 3. Exploratory Data Analysis\n",
    "In this seciton, the researchers will be conducting an EDA to explore the dataset furthermore. In particular, we wanted to focus on the following interesting questions:\n",
    "1. Does people with high BMI count have a greater probability to have diabetes?\n",
    "2. Does a person's income have a relation to their diabetic status?\n",
    "3. What is the relation of a person's physical activity to their diabetic status?"
   ]
  },
  {
   "cell_type": "markdown",
   "id": "olive-focus",
   "metadata": {},
   "source": [
    "## 3.1. The BMI count of individuals in relation to their diabetic status.\n",
    "\n",
    "We wanted to determine the relationship with an individuals BMI (`BMI`) and their Diabetic Status (`Daiabetes_012`). To do this, a boxplot was constructed to have a visualization of the trends among the three groups."
   ]
  },
  {
   "cell_type": "code",
   "execution_count": 13,
   "id": "referenced-addiction",
   "metadata": {},
   "outputs": [
    {
     "data": {
      "image/png": "[encoded data removed]",
      "text/plain": [
       "<Figure size 1080x1080 with 1 Axes>"
      ]
     },
     "metadata": {
      "needs_background": "light"
     },
     "output_type": "display_data"
    }
   ],
   "source": [
    "# Generating the Boxplot for the BMI and Diabetes_012\n",
    "\n",
    "diabetes_dfCopy.boxplot(\"BMI\", by=\"Diabetes_012\", figsize=(15,15))\n",
    "plt.show()"
   ]
  },
  {
   "cell_type": "markdown",
   "id": "incorporate-eight",
   "metadata": {},
   "source": [
    "Given the boxplot above, we see can the BMI values of those who are not diabetic, prediabetic, and diabetic. From this, the boxplot shows us that those who are not diabtec have lower BMI values compared to those who are prediabetic and diabetic. Furthermore, we can see from the boxplot that there are so many extreme values from each categories. We note that these values are not outliers since it is possible  for an individual to have to have a high BMI but doesn't have a diabetes. It is also possible that a person's with low BMI has a diabetes. To have a much more clearer view we take a look at the summary of statistics."
   ]
  },
  {
   "cell_type": "code",
   "execution_count": 24,
   "id": "silver-edinburgh",
   "metadata": {},
   "outputs": [
    {
     "data": {
      "text/html": [
       "<div>\n",
       "<style scoped>\n",
       "    .dataframe tbody tr th:only-of-type {\n",
       "        vertical-align: middle;\n",
       "    }\n",
       "\n",
       "    .dataframe tbody tr th {\n",
       "        vertical-align: top;\n",
       "    }\n",
       "\n",
       "    .dataframe thead tr th {\n",
       "        text-align: left;\n",
       "    }\n",
       "\n",
       "    .dataframe thead tr:last-of-type th {\n",
       "        text-align: right;\n",
       "    }\n",
       "</style>\n",
       "<table border=\"1\" class=\"dataframe\">\n",
       "  <thead>\n",
       "    <tr>\n",
       "      <th></th>\n",
       "      <th colspan=\"4\" halign=\"left\">BMI</th>\n",
       "    </tr>\n",
       "    <tr>\n",
       "      <th></th>\n",
       "      <th>mean</th>\n",
       "      <th>median</th>\n",
       "      <th>std</th>\n",
       "      <th>len</th>\n",
       "    </tr>\n",
       "    <tr>\n",
       "      <th>Diabetes_012</th>\n",
       "      <th></th>\n",
       "      <th></th>\n",
       "      <th></th>\n",
       "      <th></th>\n",
       "    </tr>\n",
       "  </thead>\n",
       "  <tbody>\n",
       "    <tr>\n",
       "      <th>0</th>\n",
       "      <td>27.742521</td>\n",
       "      <td>27</td>\n",
       "      <td>6.260993</td>\n",
       "      <td>213703</td>\n",
       "    </tr>\n",
       "    <tr>\n",
       "      <th>1</th>\n",
       "      <td>30.724466</td>\n",
       "      <td>30</td>\n",
       "      <td>6.964898</td>\n",
       "      <td>4631</td>\n",
       "    </tr>\n",
       "    <tr>\n",
       "      <th>2</th>\n",
       "      <td>31.944011</td>\n",
       "      <td>31</td>\n",
       "      <td>7.363401</td>\n",
       "      <td>35346</td>\n",
       "    </tr>\n",
       "  </tbody>\n",
       "</table>\n",
       "</div>"
      ],
      "text/plain": [
       "                    BMI                         \n",
       "                   mean median       std     len\n",
       "Diabetes_012                                    \n",
       "0             27.742521     27  6.260993  213703\n",
       "1             30.724466     30  6.964898    4631\n",
       "2             31.944011     31  7.363401   35346"
      ]
     },
     "execution_count": 24,
     "metadata": {},
     "output_type": "execute_result"
    }
   ],
   "source": [
    "# Generating the Summary Statistics for the BMI and Diabetes_012\n",
    "\n",
    "diabetes_BMI_summary_stat = diabetes_dfCopy.groupby(\"Diabetes_012\").agg({\"BMI\": [\"mean\", \"median\", \"std\", len]})\n",
    "diabetes_BMI_summary_stat"
   ]
  },
  {
   "cell_type": "markdown",
   "id": "thermal-blame",
   "metadata": {},
   "source": [
    "As we can see from the summary statisitcs, people with diabetes has the highest average of BMI followed by people with prediabetes. Moreover, since the mean and median is almost equal the distribution for the data is almost normally distributed (no skewness). With these, we see that people with higher BMI tends to be more prone in having diabetes. But we can't still answer our first question *\"Does people with high BMI count have a greater probability to have diabetes?\"* since we don't know if the difference is statistically significant. A hypthesis testing is necessary in order to answer this. With this, we came up our first research question **Is there a difference with the BMI of those that are diabetic to those who are not diabetic?**"
   ]
  },
  {
   "cell_type": "markdown",
   "id": "mental-observer",
   "metadata": {},
   "source": [
    "## 3.2. The income of individuals in relation to their diabetic status.\n",
    "\n",
    "Our next question *\"Does a person's income have a relation to their diabetic status?\"* focuses on the relationship between an individuals Income (`Income`) and their Diabetic Status (`Diabetes`). For this analysis, the researchers want to determine if there is any sign that diabetes, or the lack thereof, is related to the income of a person. To visualize this, the researchers will use a histogram that depicts the count of those that have diabetes, prediabetes, and nodiabetes, organized in relation to their income."
   ]
  },
  {
   "cell_type": "code",
   "execution_count": 15,
   "id": "extra-falls",
   "metadata": {},
   "outputs": [],
   "source": [
    "# Creating an array of individual's income for each category\n",
    "\n",
    "without_diabetes_income = diabetes_dfCopy[diabetes_dfCopy[\"Diabetes_012\"]==0][\"Income\"].to_numpy()\n",
    "with_prediabetes_income = diabetes_dfCopy[diabetes_dfCopy[\"Diabetes_012\"]==1][\"Income\"].to_numpy()\n",
    "with_diabetes_income = diabetes_dfCopy[diabetes_dfCopy[\"Diabetes_012\"]==2][\"Income\"].to_numpy()"
   ]
  },
  {
   "cell_type": "code",
   "execution_count": 16,
   "id": "loved-afghanistan",
   "metadata": {},
   "outputs": [
    {
     "data": {
      "image/png": "[encoded data removed]",
      "text/plain": [
       "<Figure size 720x720 with 1 Axes>"
      ]
     },
     "metadata": {
      "needs_background": "light"
     },
     "output_type": "display_data"
    }
   ],
   "source": [
    "# Generating a side by side histogram for the three groups\n",
    "\n",
    "plt.figure(figsize=(10,10))\n",
    "plt.hist([without_diabetes_income, with_prediabetes_income, with_diabetes_income],bins=range(1,10), align=\"left\", label=[\"without diabetes\", \"with prediabetes\", \"with diabetes\"])\n",
    "plt.xticks(range(1,9))\n",
    "plt.xlim([0, 9])\n",
    "plt.legend(loc='upper right')\n",
    "plt.xlabel(\"Income\")\n",
    "plt.ylabel(\"Count\")\n",
    "plt.show()"
   ]
  },
  {
   "cell_type": "markdown",
   "id": "digital-somewhere",
   "metadata": {},
   "source": [
    "From the histogram above, people without diabetes has the highest count in all the income scale followed by with diabetes and lastly with prediabetes. Moreover, the increases in the number of people without diabetes became relavitely large as the income increases (the income scale they belong). In both with prediabetes and with diabetes, the increase is relatively small compare to without diabetes. To make a further analysis, a contigency table was needed (i.e. a new dataframe focusing on the two variables `Income` and `Diabetes_012`). \n",
    "\n",
    "To do this, we count the number of individuals in each income scale (`Income`) for each diabetic status (`Diabetes_012`). "
   ]
  },
  {
   "cell_type": "code",
   "execution_count": 17,
   "id": "acquired-vietnam",
   "metadata": {},
   "outputs": [
    {
     "data": {
      "text/plain": [
       "Diabetes_012  Income\n",
       "0             8         82179\n",
       "              7         37219\n",
       "              6         30431\n",
       "              5         20792\n",
       "              4         15622\n",
       "              3         12005\n",
       "              2          8341\n",
       "              1          7114\n",
       "1             8          1011\n",
       "              6           748\n",
       "              7           735\n",
       "              5           587\n",
       "              4           459\n",
       "              3           421\n",
       "              2           356\n",
       "              1           314\n",
       "2             8          7195\n",
       "              6          5291\n",
       "              7          5265\n",
       "              5          4504\n",
       "              4          4054\n",
       "              3          3568\n",
       "              2          3086\n",
       "              1          2383\n",
       "Name: Income, dtype: int64"
      ]
     },
     "execution_count": 17,
     "metadata": {},
     "output_type": "execute_result"
    }
   ],
   "source": [
    "# Counting number of individuals in each income scale for each Diabetic Status.\n",
    "\n",
    "diabetes_counts = diabetes_dfCopy.groupby(\"Diabetes_012\")[\"Income\"].value_counts()\n",
    "diabetes_counts"
   ]
  },
  {
   "cell_type": "markdown",
   "id": "according-making",
   "metadata": {},
   "source": [
    "Looking at the data above, generally people having higher income is more susceptible from having diabetes. To have a much clearer view we convert this counts into a table as shown below. "
   ]
  },
  {
   "cell_type": "code",
   "execution_count": 18,
   "id": "combined-permit",
   "metadata": {},
   "outputs": [
    {
     "data": {
      "text/html": [
       "<div>\n",
       "<style scoped>\n",
       "    .dataframe tbody tr th:only-of-type {\n",
       "        vertical-align: middle;\n",
       "    }\n",
       "\n",
       "    .dataframe tbody tr th {\n",
       "        vertical-align: top;\n",
       "    }\n",
       "\n",
       "    .dataframe thead th {\n",
       "        text-align: right;\n",
       "    }\n",
       "</style>\n",
       "<table border=\"1\" class=\"dataframe\">\n",
       "  <thead>\n",
       "    <tr style=\"text-align: right;\">\n",
       "      <th></th>\n",
       "      <th>without diabetes</th>\n",
       "      <th>prediabetes</th>\n",
       "      <th>with diabetes</th>\n",
       "    </tr>\n",
       "    <tr>\n",
       "      <th>Income</th>\n",
       "      <th></th>\n",
       "      <th></th>\n",
       "      <th></th>\n",
       "    </tr>\n",
       "  </thead>\n",
       "  <tbody>\n",
       "    <tr>\n",
       "      <th>1</th>\n",
       "      <td>7114</td>\n",
       "      <td>314</td>\n",
       "      <td>2383</td>\n",
       "    </tr>\n",
       "    <tr>\n",
       "      <th>2</th>\n",
       "      <td>8341</td>\n",
       "      <td>356</td>\n",
       "      <td>3086</td>\n",
       "    </tr>\n",
       "    <tr>\n",
       "      <th>3</th>\n",
       "      <td>12005</td>\n",
       "      <td>421</td>\n",
       "      <td>3568</td>\n",
       "    </tr>\n",
       "    <tr>\n",
       "      <th>4</th>\n",
       "      <td>15622</td>\n",
       "      <td>459</td>\n",
       "      <td>4054</td>\n",
       "    </tr>\n",
       "    <tr>\n",
       "      <th>5</th>\n",
       "      <td>20792</td>\n",
       "      <td>587</td>\n",
       "      <td>4504</td>\n",
       "    </tr>\n",
       "    <tr>\n",
       "      <th>6</th>\n",
       "      <td>30431</td>\n",
       "      <td>748</td>\n",
       "      <td>5291</td>\n",
       "    </tr>\n",
       "    <tr>\n",
       "      <th>7</th>\n",
       "      <td>37219</td>\n",
       "      <td>735</td>\n",
       "      <td>5265</td>\n",
       "    </tr>\n",
       "    <tr>\n",
       "      <th>8</th>\n",
       "      <td>82179</td>\n",
       "      <td>1011</td>\n",
       "      <td>7195</td>\n",
       "    </tr>\n",
       "  </tbody>\n",
       "</table>\n",
       "</div>"
      ],
      "text/plain": [
       "        without diabetes  prediabetes  with diabetes\n",
       "Income                                              \n",
       "1                   7114          314           2383\n",
       "2                   8341          356           3086\n",
       "3                  12005          421           3568\n",
       "4                  15622          459           4054\n",
       "5                  20792          587           4504\n",
       "6                  30431          748           5291\n",
       "7                  37219          735           5265\n",
       "8                  82179         1011           7195"
      ]
     },
     "execution_count": 18,
     "metadata": {},
     "output_type": "execute_result"
    }
   ],
   "source": [
    "# Creating a dataframe from the diabetes_counts\n",
    "\n",
    "diabetes_table = pd.DataFrame([diabetes_counts[0], diabetes_counts[1], diabetes_counts[2]], index=[\"without diabetes\", \"prediabetes\", \"with diabetes\"]).transpose()\n",
    "diabetes_table"
   ]
  },
  {
   "cell_type": "markdown",
   "id": "thick-warren",
   "metadata": {},
   "source": [
    "In the table above, it is much clearer that the increase in the number of people without diabetes becames larger as their income increases. The speed of the increases somehow follows an exponential equation. The increase in the other two categories is not that much high as the income scale increases. But this table still doesn't answer our question *\"Does a person's income have a relation to their diabetic status?\"*. In order to determine if there really is a difference between the groups a statistical inference is needed."
   ]
  },
  {
   "cell_type": "markdown",
   "id": "stone-settle",
   "metadata": {},
   "source": [
    "## 3.3. The physical activity of an individual in relation to their diabtic status.\n",
    "\n",
    "For the final interesting question *\"What is the relation of a person's physical activity to their diabetic status?\"*, which focus on the relationship between an individuals Physical Activity (`PhysActivity`) and their Diabetic Status (`Diabetes`). A histogram was first generated that depicts the count of those that have diabetes, prediabetes, and nodiabetes, organized in relation to their physical activity to have a clear picture of the distribution. "
   ]
  },
  {
   "cell_type": "code",
   "execution_count": 19,
   "id": "engaging-shift",
   "metadata": {},
   "outputs": [],
   "source": [
    "# Creating an array of individual's physical activity for each category\n",
    "\n",
    "without_diabetes_genhlth = diabetes_dfCopy[diabetes_dfCopy[\"Diabetes_012\"]==0][\"PhysActivity\"].to_numpy()\n",
    "with_prediabetes_genhlth = diabetes_dfCopy[diabetes_dfCopy[\"Diabetes_012\"]==1][\"PhysActivity\"].to_numpy()\n",
    "with_diabetes_genhlth = diabetes_dfCopy[diabetes_dfCopy[\"Diabetes_012\"]==2][\"PhysActivity\"].to_numpy()"
   ]
  },
  {
   "cell_type": "code",
   "execution_count": 20,
   "id": "configured-catering",
   "metadata": {},
   "outputs": [
    {
     "data": {
      "image/png": "[encoded data removed]",
      "text/plain": [
       "<Figure size 720x720 with 1 Axes>"
      ]
     },
     "metadata": {
      "needs_background": "light"
     },
     "output_type": "display_data"
    }
   ],
   "source": [
    "# Generating a side by side histogram for the three groups\n",
    "\n",
    "plt.figure(figsize=(10,10))\n",
    "plt.hist([without_diabetes_genhlth, with_prediabetes_genhlth, with_diabetes_genhlth],bins=range(-1,3), align=\"left\", label=[\"without diabetes\", \"with prediabetes\", \"with diabetes\"])\n",
    "plt.xticks(range(0,2))\n",
    "plt.xlim([-1, 2])\n",
    "plt.legend(loc='upper right')\n",
    "plt.xlabel(\"PhysActivity\")\n",
    "plt.ylabel(\"Count\")\n",
    "plt.show()"
   ]
  },
  {
   "cell_type": "markdown",
   "id": "alien-campaign",
   "metadata": {},
   "source": [
    "As seen from the histograph above, those without diabetes has the highest count in both with and without physical activity, followed by those with diabetes, and finally those with prediabets. The graphs only tells us that there are more physical active individual that have no diabetes but we can't assume if physical activity and diabetic status are dependent or independent with each other. Let's look at the contigency table to see if we can further make some analysis."
   ]
  },
  {
   "cell_type": "code",
   "execution_count": 21,
   "id": "framed-raising",
   "metadata": {},
   "outputs": [
    {
     "data": {
      "text/plain": [
       "Diabetes_012  PhysActivity\n",
       "0             1               166491\n",
       "              0                47212\n",
       "1             1                 3142\n",
       "              0                 1489\n",
       "2             1                22287\n",
       "              0                13059\n",
       "Name: PhysActivity, dtype: int64"
      ]
     },
     "execution_count": 21,
     "metadata": {},
     "output_type": "execute_result"
    }
   ],
   "source": [
    "# Counting number of individuals who undergone physical activity and not for each Diabetic Status.\n",
    "\n",
    "diabetes_physact_counts = diabetes_dfCopy.groupby(\"Diabetes_012\")[\"PhysActivity\"].value_counts()\n",
    "diabetes_physact_counts"
   ]
  },
  {
   "cell_type": "code",
   "execution_count": 41,
   "id": "usual-vacation",
   "metadata": {},
   "outputs": [
    {
     "data": {
      "text/html": [
       "<div>\n",
       "<style scoped>\n",
       "    .dataframe tbody tr th:only-of-type {\n",
       "        vertical-align: middle;\n",
       "    }\n",
       "\n",
       "    .dataframe tbody tr th {\n",
       "        vertical-align: top;\n",
       "    }\n",
       "\n",
       "    .dataframe thead th {\n",
       "        text-align: right;\n",
       "    }\n",
       "</style>\n",
       "<table border=\"1\" class=\"dataframe\">\n",
       "  <thead>\n",
       "    <tr style=\"text-align: right;\">\n",
       "      <th></th>\n",
       "      <th>without diabetes</th>\n",
       "      <th>prediabetes</th>\n",
       "      <th>with diabetes</th>\n",
       "    </tr>\n",
       "    <tr>\n",
       "      <th>PhysActivity</th>\n",
       "      <th></th>\n",
       "      <th></th>\n",
       "      <th></th>\n",
       "    </tr>\n",
       "  </thead>\n",
       "  <tbody>\n",
       "    <tr>\n",
       "      <th>1</th>\n",
       "      <td>166491</td>\n",
       "      <td>3142</td>\n",
       "      <td>22287</td>\n",
       "    </tr>\n",
       "    <tr>\n",
       "      <th>0</th>\n",
       "      <td>47212</td>\n",
       "      <td>1489</td>\n",
       "      <td>13059</td>\n",
       "    </tr>\n",
       "  </tbody>\n",
       "</table>\n",
       "</div>"
      ],
      "text/plain": [
       "              without diabetes  prediabetes  with diabetes\n",
       "PhysActivity                                              \n",
       "1                       166491         3142          22287\n",
       "0                        47212         1489          13059"
      ]
     },
     "execution_count": 41,
     "metadata": {},
     "output_type": "execute_result"
    }
   ],
   "source": [
    "# Creating a dataframe from the diabetes_physact_counts\n",
    "\n",
    "diabetes_physact_table = pd.DataFrame([diabetes_physact_counts[0], diabetes_physact_counts[1], diabetes_physact_counts[2]], index=[\"without diabetes\", \"prediabetes\", \"with diabetes\"]).transpose()\n",
    "diabetes_physact_table"
   ]
  },
  {
   "cell_type": "markdown",
   "id": "viral-infrared",
   "metadata": {},
   "source": [
    "We can clearly see that being physical active has a higher chance of being without diabetes. But the table alone can't tell us if these two variables are dependent. Thus, we need to perform hypthosis testing. This resulted to our 2nd Research Question. **Is there a relationship between a person's physical activity and diabetic status?**"
   ]
  },
  {
   "cell_type": "markdown",
   "id": "illegal-electron",
   "metadata": {},
   "source": [
    "# 4. Research Questions & Statistical Inference"
   ]
  },
  {
   "cell_type": "markdown",
   "id": "adolescent-folks",
   "metadata": {},
   "source": [
    "**Research Questions**\n",
    "1. Is there a significant difference between the BMI of those that are diabetic to those who are not diabetic?\n",
    "2. Is there a relationship between a person's physical activity and diabetic status?\n",
    "\n",
    "\n",
    "**Importance and significance of the Reasearch Questions**\n",
    "1. From the [recent fact sheet of WHO](https://www.who.int/news-room/fact-sheets/detail/obesity-and-overweight), 1.9 billion adults were considered overwieght and 650 million from these were considered obese. The number is almost tripled from the record in the year 1975. The number of obese and overweight adults continues to grow. Since obesity is preventable it is important to know if there's a signifianct difference between a person's BMI with respect to their diabetic status. This could help us in preventing and lowering the increasing number of diabetic person.\n",
    "\n",
    "2. Another [fact sheet report made by WHO](https://www.who.int/news-room/fact-sheets/detail/physical-activity) shows that on the year 2016, about 28% of adults do not meet the global recommendation of physical activity per week. Moreover, with the pandemic going it is much harder to become physicaly active with all this restrictions. Knowing the relationship between a person's physical activty and diabetic status might emphaize the importance of being more physicaly active. "
   ]
  },
  {
   "cell_type": "markdown",
   "id": "annoying-october",
   "metadata": {},
   "source": [
    "# 4.1. Statistical Inference For Research Question 1\n",
    "This portion, would show the hypthosis testing done in order the first research question *\"Is there a significant difference with the BMI of those that are diabetic to those who are not diabetic?\"*. \n",
    "\n",
    "There are 3 groups - without diabetes, prediabetes and with diabetes. We decided to only consider without diabetes and with diabetes since prediabetes are individuals with higher than normal but not high enough to be diagnosed with diabetes. We decided to remove this to focus more on people who are diagnosed with and without diabetes. \n",
    "\n",
    "With this, we first look at the summary statistics we generate in *3.1. The BMI count of individuals in relation to their diabetic status*."
   ]
  },
  {
   "cell_type": "code",
   "execution_count": 25,
   "id": "romance-operator",
   "metadata": {},
   "outputs": [
    {
     "data": {
      "text/html": [
       "<div>\n",
       "<style scoped>\n",
       "    .dataframe tbody tr th:only-of-type {\n",
       "        vertical-align: middle;\n",
       "    }\n",
       "\n",
       "    .dataframe tbody tr th {\n",
       "        vertical-align: top;\n",
       "    }\n",
       "\n",
       "    .dataframe thead tr th {\n",
       "        text-align: left;\n",
       "    }\n",
       "\n",
       "    .dataframe thead tr:last-of-type th {\n",
       "        text-align: right;\n",
       "    }\n",
       "</style>\n",
       "<table border=\"1\" class=\"dataframe\">\n",
       "  <thead>\n",
       "    <tr>\n",
       "      <th></th>\n",
       "      <th colspan=\"4\" halign=\"left\">BMI</th>\n",
       "    </tr>\n",
       "    <tr>\n",
       "      <th></th>\n",
       "      <th>mean</th>\n",
       "      <th>median</th>\n",
       "      <th>std</th>\n",
       "      <th>len</th>\n",
       "    </tr>\n",
       "    <tr>\n",
       "      <th>Diabetes_012</th>\n",
       "      <th></th>\n",
       "      <th></th>\n",
       "      <th></th>\n",
       "      <th></th>\n",
       "    </tr>\n",
       "  </thead>\n",
       "  <tbody>\n",
       "    <tr>\n",
       "      <th>0</th>\n",
       "      <td>27.742521</td>\n",
       "      <td>27</td>\n",
       "      <td>6.260993</td>\n",
       "      <td>213703</td>\n",
       "    </tr>\n",
       "    <tr>\n",
       "      <th>1</th>\n",
       "      <td>30.724466</td>\n",
       "      <td>30</td>\n",
       "      <td>6.964898</td>\n",
       "      <td>4631</td>\n",
       "    </tr>\n",
       "    <tr>\n",
       "      <th>2</th>\n",
       "      <td>31.944011</td>\n",
       "      <td>31</td>\n",
       "      <td>7.363401</td>\n",
       "      <td>35346</td>\n",
       "    </tr>\n",
       "  </tbody>\n",
       "</table>\n",
       "</div>"
      ],
      "text/plain": [
       "                    BMI                         \n",
       "                   mean median       std     len\n",
       "Diabetes_012                                    \n",
       "0             27.742521     27  6.260993  213703\n",
       "1             30.724466     30  6.964898    4631\n",
       "2             31.944011     31  7.363401   35346"
      ]
     },
     "execution_count": 25,
     "metadata": {},
     "output_type": "execute_result"
    }
   ],
   "source": [
    "# Summary Statistics from 3.1. The BMI count of individuals in relation to their diabetic status.\n",
    "\n",
    "diabetes_BMI_summary_stat"
   ]
  },
  {
   "cell_type": "markdown",
   "id": "promising-roommate",
   "metadata": {},
   "source": [
    "Since we will only consider individuals that are diagnosed with and without diabetes we need to compute our final sample size. The final sample size is:"
   ]
  },
  {
   "cell_type": "code",
   "execution_count": 33,
   "id": "contained-october",
   "metadata": {},
   "outputs": [
    {
     "name": "stdout",
     "output_type": "stream",
     "text": [
      "249049.0\n"
     ]
    }
   ],
   "source": [
    "# Computing for final sample size\n",
    "\n",
    "non_diabetic_size = diabetes_BMI_summary_stat.loc[0].loc[\"BMI\"].loc[\"len\"]\n",
    "diabetic_size = diabetes_BMI_summary_stat.loc[2].loc[\"BMI\"].loc[\"len\"]\n",
    "\n",
    "final_sample_size = non_diabetic_size + diabetic_size\n",
    "print(final_sample_size)"
   ]
  },
  {
   "cell_type": "markdown",
   "id": "rubber-vegetation",
   "metadata": {},
   "source": [
    "From our sample we can compute the difference in the means between the two groups (without diabetes and with diabetes). The difference between the means is: "
   ]
  },
  {
   "cell_type": "code",
   "execution_count": 27,
   "id": "finished-speed",
   "metadata": {},
   "outputs": [
    {
     "name": "stdout",
     "output_type": "stream",
     "text": [
      "-4.20\n"
     ]
    }
   ],
   "source": [
    "non_diabetic_mean = diabetes_BMI_summary_stat.loc[0].loc[\"BMI\"].loc[\"mean\"]\n",
    "diabetic_mean = diabetes_BMI_summary_stat.loc[2].loc[\"BMI\"].loc[\"mean\"]\n",
    "\n",
    "diff = non_diabetic_mean - diabetic_mean\n",
    "print('{:.2f}'.format(diff))"
   ]
  },
  {
   "cell_type": "markdown",
   "id": "banner-sewing",
   "metadata": {},
   "source": [
    "Next, we set up our hypthoses.\n",
    "\n",
    "$H_0$ (null hypothesis): The true difference between the two groups is 0.\n",
    "\n",
    "$H_A$ (alternative hypothesis): The true difference between the two groups is not 0."
   ]
  },
  {
   "cell_type": "markdown",
   "id": "rocky-houston",
   "metadata": {},
   "source": [
    "We will be using t-test for hypothesis testing. Since our sample is randomly selected and independent and since our final sample size is 249049 (sufficiently large enough) then we can assume that are data is normally distributed using CLT. We, can now then proceed to testing. We will be setting the parameter `equal_var` to `False` since we can't assume that the population has equal variances."
   ]
  },
  {
   "cell_type": "code",
   "execution_count": 34,
   "id": "solved-kingdom",
   "metadata": {},
   "outputs": [
    {
     "data": {
      "text/plain": [
       "Ttest_indResult(statistic=-101.38352359927993, pvalue=0.0)"
      ]
     },
     "execution_count": 34,
     "metadata": {},
     "output_type": "execute_result"
    }
   ],
   "source": [
    "# Perfomring T-test\n",
    "\n",
    "ttest_ind(diabetes_df[diabetes_df[\"Diabetes_012\"] == 0.0][\"BMI\"],\n",
    "          diabetes_df[diabetes_df[\"Diabetes_012\"] == 2.0][\"BMI\"],\n",
    "          equal_var = False)"
   ]
  },
  {
   "cell_type": "markdown",
   "id": "funky-locator",
   "metadata": {},
   "source": [
    "Since the $p$-value = 0.0, is less than the 0.05, we then reject the null hypothesis. Therefore, we can conclude based on the $p$-value under a 5% significance level that there is a significant difference between the BMI of people who are diabetic and people who are non-diabetic. "
   ]
  },
  {
   "cell_type": "markdown",
   "id": "amber-theory",
   "metadata": {},
   "source": [
    "# 4.2 Statistical Inference For Research Question 2\n",
    "For this research question, we would like to find out Is there a relationship between a person's physical activity and diabetic status. \n",
    "\n",
    "Again, there are 3 groups - without diabetes, prediabetes and with diabetes. We decided to only consider without diabetes and with diabetes since prediabetes are individuals with higher than normal but not high enough to be diagnosed with diabetes. We decided to remove this to focus more on people who are diagnosed with and without diabetes. "
   ]
  },
  {
   "cell_type": "code",
   "execution_count": 42,
   "id": "destroyed-sunset",
   "metadata": {},
   "outputs": [
    {
     "data": {
      "text/html": [
       "<div>\n",
       "<style scoped>\n",
       "    .dataframe tbody tr th:only-of-type {\n",
       "        vertical-align: middle;\n",
       "    }\n",
       "\n",
       "    .dataframe tbody tr th {\n",
       "        vertical-align: top;\n",
       "    }\n",
       "\n",
       "    .dataframe thead th {\n",
       "        text-align: right;\n",
       "    }\n",
       "</style>\n",
       "<table border=\"1\" class=\"dataframe\">\n",
       "  <thead>\n",
       "    <tr style=\"text-align: right;\">\n",
       "      <th></th>\n",
       "      <th>without diabetes</th>\n",
       "      <th>prediabetes</th>\n",
       "      <th>with diabetes</th>\n",
       "    </tr>\n",
       "    <tr>\n",
       "      <th>PhysActivity</th>\n",
       "      <th></th>\n",
       "      <th></th>\n",
       "      <th></th>\n",
       "    </tr>\n",
       "  </thead>\n",
       "  <tbody>\n",
       "    <tr>\n",
       "      <th>1</th>\n",
       "      <td>166491</td>\n",
       "      <td>3142</td>\n",
       "      <td>22287</td>\n",
       "    </tr>\n",
       "    <tr>\n",
       "      <th>0</th>\n",
       "      <td>47212</td>\n",
       "      <td>1489</td>\n",
       "      <td>13059</td>\n",
       "    </tr>\n",
       "  </tbody>\n",
       "</table>\n",
       "</div>"
      ],
      "text/plain": [
       "              without diabetes  prediabetes  with diabetes\n",
       "PhysActivity                                              \n",
       "1                       166491         3142          22287\n",
       "0                        47212         1489          13059"
      ]
     },
     "execution_count": 42,
     "metadata": {},
     "output_type": "execute_result"
    }
   ],
   "source": [
    "# Table from 3.3. The physical activity of an individual in relation to their diabtic status.\n",
    "\n",
    "diabetes_physact_table"
   ]
  },
  {
   "cell_type": "code",
   "execution_count": 43,
   "id": "binary-cowboy",
   "metadata": {},
   "outputs": [
    {
     "data": {
      "text/html": [
       "<div>\n",
       "<style scoped>\n",
       "    .dataframe tbody tr th:only-of-type {\n",
       "        vertical-align: middle;\n",
       "    }\n",
       "\n",
       "    .dataframe tbody tr th {\n",
       "        vertical-align: top;\n",
       "    }\n",
       "\n",
       "    .dataframe thead th {\n",
       "        text-align: right;\n",
       "    }\n",
       "</style>\n",
       "<table border=\"1\" class=\"dataframe\">\n",
       "  <thead>\n",
       "    <tr style=\"text-align: right;\">\n",
       "      <th></th>\n",
       "      <th>without diabetes</th>\n",
       "      <th>with diabetes</th>\n",
       "    </tr>\n",
       "    <tr>\n",
       "      <th>PhysActivity</th>\n",
       "      <th></th>\n",
       "      <th></th>\n",
       "    </tr>\n",
       "  </thead>\n",
       "  <tbody>\n",
       "    <tr>\n",
       "      <th>1</th>\n",
       "      <td>166491</td>\n",
       "      <td>22287</td>\n",
       "    </tr>\n",
       "    <tr>\n",
       "      <th>0</th>\n",
       "      <td>47212</td>\n",
       "      <td>13059</td>\n",
       "    </tr>\n",
       "  </tbody>\n",
       "</table>\n",
       "</div>"
      ],
      "text/plain": [
       "              without diabetes  with diabetes\n",
       "PhysActivity                                 \n",
       "1                       166491          22287\n",
       "0                        47212          13059"
      ]
     },
     "execution_count": 43,
     "metadata": {},
     "output_type": "execute_result"
    }
   ],
   "source": [
    "# Dropping the column for prediabetes\n",
    "\n",
    "diabetes_physact_table.drop(['prediabetes'], axis='columns', inplace=True)\n",
    "diabetes_physact_table"
   ]
  },
  {
   "cell_type": "markdown",
   "id": "communist-physics",
   "metadata": {},
   "source": [
    "Next, we set up our hypthoses.\n",
    "\n",
    "$H_0$ (null hypothesis): There is no significant difference between the distribution of the two groups.\n",
    "\n",
    "$H_A$ (alternative hypothesis): There is a significant difference between the distribution of the two groups."
   ]
  },
  {
   "cell_type": "markdown",
   "id": "lesser-greensboro",
   "metadata": {},
   "source": [
    "We will be using chi-square for testing to determine if there is a difference between the distribution of the two groups."
   ]
  },
  {
   "cell_type": "code",
   "execution_count": 44,
   "id": "blond-canal",
   "metadata": {},
   "outputs": [
    {
     "data": {
      "text/plain": [
       "(3647.1812283220806,\n",
       " 0.0,\n",
       " 1,\n",
       " array([[161985.89407707,  26792.10592293],\n",
       "        [ 51717.10592293,   8553.89407707]]))"
      ]
     },
     "execution_count": 44,
     "metadata": {},
     "output_type": "execute_result"
    }
   ],
   "source": [
    "# Perfomring Chi-square\n",
    "\n",
    "chi2_contingency(diabetes_physact_table)"
   ]
  },
  {
   "cell_type": "markdown",
   "id": "latin-bookmark",
   "metadata": {},
   "source": [
    "Since the $p$-value = 0.0, is less than the 0.05, we then reject the null hypothesis. Therefore, we can conclude based on the $p$-value under a 5% significance level that there is a significant difference between the the distribution of the two groups. "
   ]
  },
  {
   "cell_type": "markdown",
   "id": "random-strip",
   "metadata": {},
   "source": [
    "# 5. Conclusion and Insights\n",
    "\n",
    "This portion includes our conclusion and insights from the statistical inference we did in the previous part.\n",
    "\n",
    "**For Statistical Inference 1**\n",
    "\n",
    "- From *4.1. Statistical Inference for Research Question 1* we concluded that there is a significant difference between the BMI of people who are diabetic and people who are non-diabetic. Thus, having a high BMI might increase the risk for diabetes. \n",
    "\n",
    "**For Statistical Inference 2**\n",
    "\n",
    "- From *4.2. Statistical Inference for Research Question 2* we concluded that there is a significant difference between distribution of the two groups. Thus, being a physical active could affect your diabetic status. Not physically active individuals are at more risk in being diagnoes with diabetes."
   ]
  },
  {
   "cell_type": "code",
   "execution_count": null,
   "id": "marine-tennis",
   "metadata": {},
   "outputs": [],
   "source": []
  }
 ],
 "metadata": {
  "kernelspec": {
   "display_name": "Python 3",
   "language": "python",
   "name": "python3"
  },
  "language_info": {
   "codemirror_mode": {
    "name": "ipython",
    "version": 3
   },
   "file_extension": ".py",
   "mimetype": "text/x-python",
   "name": "python",
   "nbconvert_exporter": "python",
   "pygments_lexer": "ipython3",
   "version": "3.7.10"
  }
 },
 "nbformat": 4,
 "nbformat_minor": 5
}
