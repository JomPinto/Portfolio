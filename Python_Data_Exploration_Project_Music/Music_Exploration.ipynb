{
 "cells": [
  {
   "cell_type": "code",
   "execution_count": 1,
   "id": "invalid-original",
   "metadata": {},
   "outputs": [],
   "source": [
    "import numpy as np\n",
    "import pandas as pd\n",
    "import matplotlib.pyplot as plt\n",
    "from scipy.stats import norm\n",
    "from scipy.stats import ttest_ind\n",
    "from scipy.stats import chi2_contingency"
   ]
  },
  {
   "cell_type": "markdown",
   "id": "funky-collapse",
   "metadata": {},
   "source": [
    "# 1. Dataset Representation"
   ]
  },
  {
   "cell_type": "markdown",
   "id": "committed-divide",
   "metadata": {},
   "source": [
    "The dataset that we have chosen is `Dataset5` and as you can see from the code below, we will load the dataset into a DataFrame"
   ]
  },
  {
   "cell_type": "code",
   "execution_count": 2,
   "id": "hybrid-soviet",
   "metadata": {},
   "outputs": [
    {
     "data": {
      "text/html": [
       "<div>\n",
       "<style scoped>\n",
       "    .dataframe tbody tr th:only-of-type {\n",
       "        vertical-align: middle;\n",
       "    }\n",
       "\n",
       "    .dataframe tbody tr th {\n",
       "        vertical-align: top;\n",
       "    }\n",
       "\n",
       "    .dataframe thead th {\n",
       "        text-align: right;\n",
       "    }\n",
       "</style>\n",
       "<table border=\"1\" class=\"dataframe\">\n",
       "  <thead>\n",
       "    <tr style=\"text-align: right;\">\n",
       "      <th></th>\n",
       "      <th>Unnamed: 0</th>\n",
       "      <th>f1</th>\n",
       "      <th>f2</th>\n",
       "      <th>f3</th>\n",
       "      <th>f4</th>\n",
       "      <th>f5</th>\n",
       "      <th>f6</th>\n",
       "      <th>f7</th>\n",
       "      <th>f8</th>\n",
       "      <th>f9</th>\n",
       "      <th>f10</th>\n",
       "      <th>class</th>\n",
       "    </tr>\n",
       "  </thead>\n",
       "  <tbody>\n",
       "    <tr>\n",
       "      <th>0</th>\n",
       "      <td>0</td>\n",
       "      <td>185.444143</td>\n",
       "      <td>356.772827</td>\n",
       "      <td>247.214329</td>\n",
       "      <td>350.528606</td>\n",
       "      <td>53.522970</td>\n",
       "      <td>584.549744</td>\n",
       "      <td>97.173214</td>\n",
       "      <td>371.689430</td>\n",
       "      <td>701.090739</td>\n",
       "      <td>-299.062372</td>\n",
       "      <td>0</td>\n",
       "    </tr>\n",
       "    <tr>\n",
       "      <th>1</th>\n",
       "      <td>1</td>\n",
       "      <td>12.607185</td>\n",
       "      <td>424.229828</td>\n",
       "      <td>-30.161324</td>\n",
       "      <td>78.372181</td>\n",
       "      <td>531.996623</td>\n",
       "      <td>340.443160</td>\n",
       "      <td>-29.915956</td>\n",
       "      <td>316.879323</td>\n",
       "      <td>313.948814</td>\n",
       "      <td>539.694765</td>\n",
       "      <td>0</td>\n",
       "    </tr>\n",
       "    <tr>\n",
       "      <th>2</th>\n",
       "      <td>2</td>\n",
       "      <td>232.633486</td>\n",
       "      <td>178.888186</td>\n",
       "      <td>181.975058</td>\n",
       "      <td>512.254449</td>\n",
       "      <td>361.797323</td>\n",
       "      <td>-299.563635</td>\n",
       "      <td>206.748913</td>\n",
       "      <td>457.242606</td>\n",
       "      <td>-15.847660</td>\n",
       "      <td>229.352476</td>\n",
       "      <td>0</td>\n",
       "    </tr>\n",
       "    <tr>\n",
       "      <th>3</th>\n",
       "      <td>3</td>\n",
       "      <td>135.029109</td>\n",
       "      <td>28.148842</td>\n",
       "      <td>431.180447</td>\n",
       "      <td>-99.996098</td>\n",
       "      <td>0.168818</td>\n",
       "      <td>-46.235097</td>\n",
       "      <td>381.357999</td>\n",
       "      <td>622.660571</td>\n",
       "      <td>364.123468</td>\n",
       "      <td>402.671182</td>\n",
       "      <td>0</td>\n",
       "    </tr>\n",
       "    <tr>\n",
       "      <th>4</th>\n",
       "      <td>4</td>\n",
       "      <td>126.781295</td>\n",
       "      <td>225.034406</td>\n",
       "      <td>41.053820</td>\n",
       "      <td>588.804879</td>\n",
       "      <td>220.766392</td>\n",
       "      <td>216.064800</td>\n",
       "      <td>-29.566375</td>\n",
       "      <td>63.220223</td>\n",
       "      <td>215.753054</td>\n",
       "      <td>71.795168</td>\n",
       "      <td>0</td>\n",
       "    </tr>\n",
       "  </tbody>\n",
       "</table>\n",
       "</div>"
      ],
      "text/plain": [
       "   Unnamed: 0          f1          f2          f3          f4          f5  \\\n",
       "0           0  185.444143  356.772827  247.214329  350.528606   53.522970   \n",
       "1           1   12.607185  424.229828  -30.161324   78.372181  531.996623   \n",
       "2           2  232.633486  178.888186  181.975058  512.254449  361.797323   \n",
       "3           3  135.029109   28.148842  431.180447  -99.996098    0.168818   \n",
       "4           4  126.781295  225.034406   41.053820  588.804879  220.766392   \n",
       "\n",
       "           f6          f7          f8          f9         f10  class  \n",
       "0  584.549744   97.173214  371.689430  701.090739 -299.062372      0  \n",
       "1  340.443160  -29.915956  316.879323  313.948814  539.694765      0  \n",
       "2 -299.563635  206.748913  457.242606  -15.847660  229.352476      0  \n",
       "3  -46.235097  381.357999  622.660571  364.123468  402.671182      0  \n",
       "4  216.064800  -29.566375   63.220223  215.753054   71.795168      0  "
      ]
     },
     "execution_count": 2,
     "metadata": {},
     "output_type": "execute_result"
    }
   ],
   "source": [
    "# Generating the first 5 observations of the dataset\n",
    "\n",
    "Dataset5_df = pd.read_csv(\"Dataset5.csv\")\n",
    "Dataset5_df.head()"
   ]
  },
  {
   "cell_type": "markdown",
   "id": "manual-balloon",
   "metadata": {},
   "source": [
    "The dataset provided above is a synthetic dataset. Therefore the description for each entries and columns were not provided. Looking into the structure and information of dataset would give us an idea on the possible entity for the dataset."
   ]
  },
  {
   "cell_type": "code",
   "execution_count": 3,
   "id": "victorian-letters",
   "metadata": {},
   "outputs": [
    {
     "name": "stdout",
     "output_type": "stream",
     "text": [
      "<class 'pandas.core.frame.DataFrame'>\n",
      "RangeIndex: 900 entries, 0 to 899\n",
      "Data columns (total 12 columns):\n",
      " #   Column      Non-Null Count  Dtype  \n",
      "---  ------      --------------  -----  \n",
      " 0   Unnamed: 0  900 non-null    int64  \n",
      " 1   f1          900 non-null    float64\n",
      " 2   f2          900 non-null    float64\n",
      " 3   f3          900 non-null    float64\n",
      " 4   f4          900 non-null    float64\n",
      " 5   f5          900 non-null    float64\n",
      " 6   f6          900 non-null    float64\n",
      " 7   f7          900 non-null    float64\n",
      " 8   f8          900 non-null    float64\n",
      " 9   f9          900 non-null    float64\n",
      " 10  f10         900 non-null    float64\n",
      " 11  class       900 non-null    int64  \n",
      "dtypes: float64(10), int64(2)\n",
      "memory usage: 84.5 KB\n"
     ]
    }
   ],
   "source": [
    "# Generating information regarding the dataset\n",
    "\n",
    "Dataset5_df.info()"
   ]
  },
  {
   "cell_type": "code",
   "execution_count": 4,
   "id": "alert-track",
   "metadata": {},
   "outputs": [
    {
     "data": {
      "text/plain": [
       "Unnamed: 0    False\n",
       "f1            False\n",
       "f2            False\n",
       "f3            False\n",
       "f4            False\n",
       "f5            False\n",
       "f6            False\n",
       "f7            False\n",
       "f8            False\n",
       "f9            False\n",
       "f10           False\n",
       "class         False\n",
       "dtype: bool"
      ]
     },
     "execution_count": 4,
     "metadata": {},
     "output_type": "execute_result"
    }
   ],
   "source": [
    "# Checking if there are any null values in any variables\n",
    "\n",
    "Dataset5_df.isnull().any()"
   ]
  },
  {
   "cell_type": "markdown",
   "id": "obvious-relation",
   "metadata": {},
   "source": [
    "From the initial exploration, we can take note of the following:\n",
    "- There are **900** observations in the DataFrame\n",
    "- There are 12 variables namely:\n",
    "    - Unamed: 0\n",
    "    - f1\n",
    "    - f2\n",
    "    - f3\n",
    "    - f4\n",
    "    - f5\n",
    "    - f6\n",
    "    - f7\n",
    "    - f8\n",
    "    - f9\n",
    "    - f10\n",
    "    - class\n",
    "- Every class (except for `Unamed: 0` and `class`) holds **float64** data, `Unamed: 0` and `class` holds **int64** data.\n",
    "- There are no empty values in any observations"
   ]
  },
  {
   "cell_type": "markdown",
   "id": "usual-posting",
   "metadata": {},
   "source": [
    "Because the dataset description is not provided, we will provide our own interpretation. \n",
    "In this case, let us assume that each observation holds a **song** and the 12 variables represent the following:\n",
    "- **`Unamed: 0`**: The index of the song.\n",
    "- **`f1`**: Overtone\n",
    "- **`f2`**: Amplitude\n",
    "- **`f3`**: Pitch\n",
    "- **`f4`**: Timbre\n",
    "- **`f5`**: Rhythm\n",
    "- **`f6`**: Harmony\n",
    "- **`f7`**: Melody\n",
    "- **`f8`**: Tempo\n",
    "- **`f9`**: Duration\n",
    "- **`f10`**: Song Rating\n",
    "- **`class`**: Genre\n",
    "    - `0`: Classical\n",
    "    - `1`: Instrumental\n",
    "    - `2`: Pop\n"
   ]
  },
  {
   "cell_type": "markdown",
   "id": "silent-civilization",
   "metadata": {},
   "source": [
    "# 2. Exploratory Data Analysis"
   ]
  },
  {
   "cell_type": "markdown",
   "id": "acquired-result",
   "metadata": {},
   "source": [
    "This section of the notebook tackles exploring the dataset further and focusing on the following interesting questions:\n",
    "1. Which genre is the most popular in terms of their score rating?\n",
    "2. Which genre has the highest average pitch?\n",
    "\n",
    "Through the use of Numerical and Visual representations."
   ]
  },
  {
   "cell_type": "markdown",
   "id": "robust-noise",
   "metadata": {},
   "source": [
    "### Which genre is the most popular in terms of their average score rating?\n",
    "In this section, we wanted to determine among the three song genres we have which one is the most popular based on their score rating."
   ]
  },
  {
   "cell_type": "code",
   "execution_count": 5,
   "id": "legitimate-cedar",
   "metadata": {},
   "outputs": [
    {
     "data": {
      "text/html": [
       "<div>\n",
       "<style scoped>\n",
       "    .dataframe tbody tr th:only-of-type {\n",
       "        vertical-align: middle;\n",
       "    }\n",
       "\n",
       "    .dataframe tbody tr th {\n",
       "        vertical-align: top;\n",
       "    }\n",
       "\n",
       "    .dataframe thead tr th {\n",
       "        text-align: left;\n",
       "    }\n",
       "\n",
       "    .dataframe thead tr:last-of-type th {\n",
       "        text-align: right;\n",
       "    }\n",
       "</style>\n",
       "<table border=\"1\" class=\"dataframe\">\n",
       "  <thead>\n",
       "    <tr>\n",
       "      <th></th>\n",
       "      <th colspan=\"4\" halign=\"left\">f10</th>\n",
       "    </tr>\n",
       "    <tr>\n",
       "      <th></th>\n",
       "      <th>mean</th>\n",
       "      <th>median</th>\n",
       "      <th>std</th>\n",
       "      <th>len</th>\n",
       "    </tr>\n",
       "    <tr>\n",
       "      <th>class</th>\n",
       "      <th></th>\n",
       "      <th></th>\n",
       "      <th></th>\n",
       "      <th></th>\n",
       "    </tr>\n",
       "  </thead>\n",
       "  <tbody>\n",
       "    <tr>\n",
       "      <th>0</th>\n",
       "      <td>220.920755</td>\n",
       "      <td>205.251662</td>\n",
       "      <td>267.912884</td>\n",
       "      <td>300.0</td>\n",
       "    </tr>\n",
       "    <tr>\n",
       "      <th>1</th>\n",
       "      <td>334.220221</td>\n",
       "      <td>329.437803</td>\n",
       "      <td>212.612147</td>\n",
       "      <td>300.0</td>\n",
       "    </tr>\n",
       "    <tr>\n",
       "      <th>2</th>\n",
       "      <td>1006.334688</td>\n",
       "      <td>1010.079468</td>\n",
       "      <td>200.598607</td>\n",
       "      <td>300.0</td>\n",
       "    </tr>\n",
       "  </tbody>\n",
       "</table>\n",
       "</div>"
      ],
      "text/plain": [
       "               f10                                \n",
       "              mean       median         std    len\n",
       "class                                             \n",
       "0       220.920755   205.251662  267.912884  300.0\n",
       "1       334.220221   329.437803  212.612147  300.0\n",
       "2      1006.334688  1010.079468  200.598607  300.0"
      ]
     },
     "execution_count": 5,
     "metadata": {},
     "output_type": "execute_result"
    }
   ],
   "source": [
    "# Generating the Summary Statistics for the Score Rating and Genre\n",
    "\n",
    "rating_genre_summary_stat = Dataset5_df.groupby(\"class\").agg({\"f10\": [\"mean\", \"median\", \"std\", len]})\n",
    "rating_genre_summary_stat"
   ]
  },
  {
   "cell_type": "code",
   "execution_count": 6,
   "id": "extreme-nitrogen",
   "metadata": {},
   "outputs": [
    {
     "data": {
      "image/png": "[encoded data removed]",
      "text/plain": [
       "<Figure size 1080x1080 with 1 Axes>"
      ]
     },
     "metadata": {
      "needs_background": "light"
     },
     "output_type": "display_data"
    }
   ],
   "source": [
    "# Generating the Boxplot for the Score Rating and Genre\n",
    "\n",
    "Dataset5_df.boxplot(\"f10\", by=\"class\", figsize=(15,15))\n",
    "plt.show()"
   ]
  },
  {
   "cell_type": "markdown",
   "id": "north-landing",
   "metadata": {},
   "source": [
    "The boxplot shows us that the most popular genre among the three is the Pop Music followed by Instrumental Music and then Classical Music. Aside from being the most popular in terms of the song rating, Pop Music has also the lowest standard deviation among the three genres having about 200.60. Classical Music has the highest standard deviation having 267.91. This means song ratings for classical music are more spread out compared to other genres. This was also shown in the boxplot having the Classical Music with the longest range."
   ]
  },
  {
   "cell_type": "markdown",
   "id": "subject-cleaner",
   "metadata": {},
   "source": [
    "### Which genre has the highest average pitch?\n",
    "In this section, we wanted to determine among the three song genres we have which one is the most popular based on their score rating."
   ]
  },
  {
   "cell_type": "code",
   "execution_count": 7,
   "id": "third-ordering",
   "metadata": {},
   "outputs": [
    {
     "data": {
      "text/html": [
       "<div>\n",
       "<style scoped>\n",
       "    .dataframe tbody tr th:only-of-type {\n",
       "        vertical-align: middle;\n",
       "    }\n",
       "\n",
       "    .dataframe tbody tr th {\n",
       "        vertical-align: top;\n",
       "    }\n",
       "\n",
       "    .dataframe thead tr th {\n",
       "        text-align: left;\n",
       "    }\n",
       "\n",
       "    .dataframe thead tr:last-of-type th {\n",
       "        text-align: right;\n",
       "    }\n",
       "</style>\n",
       "<table border=\"1\" class=\"dataframe\">\n",
       "  <thead>\n",
       "    <tr>\n",
       "      <th></th>\n",
       "      <th colspan=\"6\" halign=\"left\">f3</th>\n",
       "    </tr>\n",
       "    <tr>\n",
       "      <th></th>\n",
       "      <th>mean</th>\n",
       "      <th>median</th>\n",
       "      <th>std</th>\n",
       "      <th>max</th>\n",
       "      <th>min</th>\n",
       "      <th>len</th>\n",
       "    </tr>\n",
       "    <tr>\n",
       "      <th>class</th>\n",
       "      <th></th>\n",
       "      <th></th>\n",
       "      <th></th>\n",
       "      <th></th>\n",
       "      <th></th>\n",
       "      <th></th>\n",
       "    </tr>\n",
       "  </thead>\n",
       "  <tbody>\n",
       "    <tr>\n",
       "      <th>0</th>\n",
       "      <td>221.769513</td>\n",
       "      <td>221.418582</td>\n",
       "      <td>259.030944</td>\n",
       "      <td>1003.593404</td>\n",
       "      <td>-461.132733</td>\n",
       "      <td>300.0</td>\n",
       "    </tr>\n",
       "    <tr>\n",
       "      <th>1</th>\n",
       "      <td>317.108935</td>\n",
       "      <td>315.321504</td>\n",
       "      <td>193.565049</td>\n",
       "      <td>919.440403</td>\n",
       "      <td>-161.037469</td>\n",
       "      <td>300.0</td>\n",
       "    </tr>\n",
       "    <tr>\n",
       "      <th>2</th>\n",
       "      <td>984.691123</td>\n",
       "      <td>982.918571</td>\n",
       "      <td>197.276971</td>\n",
       "      <td>1509.802773</td>\n",
       "      <td>426.686440</td>\n",
       "      <td>300.0</td>\n",
       "    </tr>\n",
       "  </tbody>\n",
       "</table>\n",
       "</div>"
      ],
      "text/plain": [
       "               f3                                                        \n",
       "             mean      median         std          max         min    len\n",
       "class                                                                    \n",
       "0      221.769513  221.418582  259.030944  1003.593404 -461.132733  300.0\n",
       "1      317.108935  315.321504  193.565049   919.440403 -161.037469  300.0\n",
       "2      984.691123  982.918571  197.276971  1509.802773  426.686440  300.0"
      ]
     },
     "execution_count": 7,
     "metadata": {},
     "output_type": "execute_result"
    }
   ],
   "source": [
    "# Generating the Summary Statistics for the Score Rating and Genre\n",
    "\n",
    "pitch_genre_summary_stat = Dataset5_df.groupby(\"class\").agg({\"f3\": [\"mean\", \"median\", \"std\", \"max\", \"min\", len]})\n",
    "pitch_genre_summary_stat"
   ]
  },
  {
   "cell_type": "code",
   "execution_count": 8,
   "id": "nutritional-bible",
   "metadata": {},
   "outputs": [
    {
     "data": {
      "image/png": "[encoded data removed]",
      "text/plain": [
       "<Figure size 1080x1080 with 1 Axes>"
      ]
     },
     "metadata": {
      "needs_background": "light"
     },
     "output_type": "display_data"
    }
   ],
   "source": [
    "# Generating the Boxplot for the Score Rating and Genre\n",
    "\n",
    "Dataset5_df.boxplot(\"f3\", by=\"class\", figsize=(15,15))\n",
    "plt.show()"
   ]
  },
  {
   "cell_type": "markdown",
   "id": "spanish-nudist",
   "metadata": {},
   "source": [
    "In terms of pitch, Pop music has the highest average pitch followed by Instrumental then Classical Music. Pop Music also has the highest pitch for a song about 1509.80 and it was reflected in the boxplot. Classical Music has the lowest pitch for a song with a record of -461.13. Moreover, the pitch for Classical Music are more disperesed or spread out compared to the other two genres as shown by the boxplot and backup by the std of about 259.03."
   ]
  },
  {
   "cell_type": "markdown",
   "id": "present-fault",
   "metadata": {},
   "source": [
    "# 3. Data Mining"
   ]
  },
  {
   "cell_type": "markdown",
   "id": "defined-notion",
   "metadata": {},
   "source": [
    "Through exploring the analysis, and the existance of the `class` variable, we know that this dataset requries the **clustering mining technique**. Given this, we shall use the `kmeans.py` file from one of the exercises. "
   ]
  },
  {
   "cell_type": "code",
   "execution_count": 9,
   "id": "capital-health",
   "metadata": {},
   "outputs": [],
   "source": [
    "from kmeans import KMeans"
   ]
  },
  {
   "cell_type": "code",
   "execution_count": 10,
   "id": "driving-phrase",
   "metadata": {},
   "outputs": [
    {
     "name": "stdout",
     "output_type": "stream",
     "text": [
      "<class 'pandas.core.frame.DataFrame'>\n",
      "RangeIndex: 900 entries, 0 to 899\n",
      "Data columns (total 12 columns):\n",
      " #   Column      Non-Null Count  Dtype  \n",
      "---  ------      --------------  -----  \n",
      " 0   Unnamed: 0  900 non-null    int64  \n",
      " 1   f1          900 non-null    float64\n",
      " 2   f2          900 non-null    float64\n",
      " 3   f3          900 non-null    float64\n",
      " 4   f4          900 non-null    float64\n",
      " 5   f5          900 non-null    float64\n",
      " 6   f6          900 non-null    float64\n",
      " 7   f7          900 non-null    float64\n",
      " 8   f8          900 non-null    float64\n",
      " 9   f9          900 non-null    float64\n",
      " 10  f10         900 non-null    float64\n",
      " 11  class       900 non-null    int64  \n",
      "dtypes: float64(10), int64(2)\n",
      "memory usage: 84.5 KB\n"
     ]
    }
   ],
   "source": [
    "Dataset5_df.info()"
   ]
  },
  {
   "cell_type": "code",
   "execution_count": 11,
   "id": "alpine-completion",
   "metadata": {
    "scrolled": true
   },
   "outputs": [
    {
     "name": "stdout",
     "output_type": "stream",
     "text": [
      "The number of observations for Classlical Music (Class 0) is: 300\n",
      "The number of observations for Instrumental (Class 1) is: 300\n",
      "The number of observations for Pop (Class 2) is: 300\n"
     ]
    }
   ],
   "source": [
    "Dataset5_class0 = 0\n",
    "Dataset5_class1 = 0\n",
    "Dataset5_class2 = 0\n",
    "\n",
    "for i in range(0, len(Dataset5_df)):\n",
    "    if Dataset5_df['class'][i] == 0:\n",
    "        Dataset5_class0 = Dataset5_class0 + 1\n",
    "    if Dataset5_df['class'][i] == 1:\n",
    "        Dataset5_class1= Dataset5_class1 + 1\n",
    "    if Dataset5_df['class'][i] == 2:\n",
    "        Dataset5_class2= Dataset5_class2 + 1\n",
    "        \n",
    "print(\"The number of observations for Classlical Music (Class 0) is:\", Dataset5_class0)\n",
    "print(\"The number of observations for Instrumental (Class 1) is:\", Dataset5_class1)\n",
    "print(\"The number of observations for Pop (Class 2) is:\", Dataset5_class2)"
   ]
  },
  {
   "cell_type": "markdown",
   "id": "numeric-simulation",
   "metadata": {},
   "source": [
    "From the 900 observations, Class 0, Class 1, and Class 2 have split the observations evenly. We now instantiate `Kmeans` object where \n",
    "- `k` = **3** \n",
    "- `start_var` = **1**\n",
    "- `end_var` = **11**\n",
    "- `num_observations` = **900**\n",
    "- `data` = **Dataset5_df**"
   ]
  },
  {
   "cell_type": "code",
   "execution_count": 12,
   "id": "spectacular-range",
   "metadata": {},
   "outputs": [],
   "source": [
    "Dataset5_kmeans = KMeans(3, 1, 11, 900, Dataset5_df)"
   ]
  },
  {
   "cell_type": "markdown",
   "id": "split-kidney",
   "metadata": {},
   "source": [
    "After instantiating Kmeans, we now initialize the centriods."
   ]
  },
  {
   "cell_type": "code",
   "execution_count": 13,
   "id": "vital-practitioner",
   "metadata": {},
   "outputs": [
    {
     "data": {
      "text/html": [
       "<div>\n",
       "<style scoped>\n",
       "    .dataframe tbody tr th:only-of-type {\n",
       "        vertical-align: middle;\n",
       "    }\n",
       "\n",
       "    .dataframe tbody tr th {\n",
       "        vertical-align: top;\n",
       "    }\n",
       "\n",
       "    .dataframe thead th {\n",
       "        text-align: right;\n",
       "    }\n",
       "</style>\n",
       "<table border=\"1\" class=\"dataframe\">\n",
       "  <thead>\n",
       "    <tr style=\"text-align: right;\">\n",
       "      <th></th>\n",
       "      <th>f1</th>\n",
       "      <th>f2</th>\n",
       "      <th>f3</th>\n",
       "      <th>f4</th>\n",
       "      <th>f5</th>\n",
       "      <th>f6</th>\n",
       "      <th>f7</th>\n",
       "      <th>f8</th>\n",
       "      <th>f9</th>\n",
       "      <th>f10</th>\n",
       "    </tr>\n",
       "  </thead>\n",
       "  <tbody>\n",
       "    <tr>\n",
       "      <th>0</th>\n",
       "      <td>247.364914</td>\n",
       "      <td>596.723054</td>\n",
       "      <td>512.029165</td>\n",
       "      <td>236.858177</td>\n",
       "      <td>143.091590</td>\n",
       "      <td>363.358423</td>\n",
       "      <td>583.431848</td>\n",
       "      <td>-107.822335</td>\n",
       "      <td>-131.099161</td>\n",
       "      <td>281.268365</td>\n",
       "    </tr>\n",
       "    <tr>\n",
       "      <th>1</th>\n",
       "      <td>1228.142677</td>\n",
       "      <td>557.469119</td>\n",
       "      <td>714.513793</td>\n",
       "      <td>1008.924185</td>\n",
       "      <td>1185.730659</td>\n",
       "      <td>1618.269164</td>\n",
       "      <td>761.229029</td>\n",
       "      <td>1300.290799</td>\n",
       "      <td>1177.430062</td>\n",
       "      <td>1342.549791</td>\n",
       "    </tr>\n",
       "    <tr>\n",
       "      <th>2</th>\n",
       "      <td>203.439972</td>\n",
       "      <td>-310.798984</td>\n",
       "      <td>-89.285111</td>\n",
       "      <td>-278.684878</td>\n",
       "      <td>409.733236</td>\n",
       "      <td>207.834679</td>\n",
       "      <td>423.599498</td>\n",
       "      <td>935.108304</td>\n",
       "      <td>316.888205</td>\n",
       "      <td>-169.465882</td>\n",
       "    </tr>\n",
       "  </tbody>\n",
       "</table>\n",
       "</div>"
      ],
      "text/plain": [
       "            f1          f2          f3           f4           f5           f6  \\\n",
       "0   247.364914  596.723054  512.029165   236.858177   143.091590   363.358423   \n",
       "1  1228.142677  557.469119  714.513793  1008.924185  1185.730659  1618.269164   \n",
       "2   203.439972 -310.798984  -89.285111  -278.684878   409.733236   207.834679   \n",
       "\n",
       "           f7           f8           f9          f10  \n",
       "0  583.431848  -107.822335  -131.099161   281.268365  \n",
       "1  761.229029  1300.290799  1177.430062  1342.549791  \n",
       "2  423.599498   935.108304   316.888205  -169.465882  "
      ]
     },
     "execution_count": 13,
     "metadata": {},
     "output_type": "execute_result"
    }
   ],
   "source": [
    "Dataset5_kmeans.initialize_centroids(Dataset5_df)"
   ]
  },
  {
   "cell_type": "markdown",
   "id": "rising-possible",
   "metadata": {},
   "source": [
    "Clustering the dataset."
   ]
  },
  {
   "cell_type": "code",
   "execution_count": 14,
   "id": "liquid-cambridge",
   "metadata": {},
   "outputs": [
    {
     "name": "stdout",
     "output_type": "stream",
     "text": [
      "Iteration 1\n",
      "Iteration 2\n",
      "Iteration 3\n",
      "Iteration 4\n",
      "Iteration 5\n",
      "Iteration 6\n",
      "Iteration 7\n",
      "Iteration 8\n",
      "Iteration 9\n",
      "Iteration 10\n",
      "Iteration 11\n",
      "Iteration 12\n",
      "Iteration 13\n",
      "Iteration 14\n",
      "Iteration 15\n",
      "Iteration 16\n",
      "Iteration 17\n",
      "Iteration 18\n",
      "Iteration 19\n",
      "Done clustering!\n"
     ]
    }
   ],
   "source": [
    "clusters = Dataset5_kmeans.train(Dataset5_df, 300)"
   ]
  },
  {
   "cell_type": "markdown",
   "id": "trying-campus",
   "metadata": {},
   "source": [
    "After clustering, we check the number of classes per cluster."
   ]
  },
  {
   "cell_type": "code",
   "execution_count": 15,
   "id": "later-falls",
   "metadata": {},
   "outputs": [
    {
     "name": "stdout",
     "output_type": "stream",
     "text": [
      "Number of data points in each cluster:\n",
      "Cluster 0:\n",
      "Classlical Music (Class 0):\t 116\n",
      "Instrumental (Class 1):\t\t 242\n",
      "Pop (Class 2):\t\t\t 0\n",
      "\n",
      "\n",
      "Cluster 1:\n",
      "Classlical Music (Class 0):\t 0\n",
      "Instrumental (Class 1):\t\t 0\n",
      "Pop (Class 2):\t\t\t 300\n",
      "\n",
      "\n",
      "Cluster 2:\n",
      "Classlical Music (Class 0):\t 184\n",
      "Instrumental (Class 1):\t\t 58\n",
      "Pop (Class 2):\t\t\t 0\n"
     ]
    }
   ],
   "source": [
    "cluster_0 = Dataset5_df.loc[clusters == 0]\n",
    "cluster_1 = Dataset5_df.loc[clusters == 1]\n",
    "cluster_2 = Dataset5_df.loc[clusters == 2]\n",
    "\n",
    "print('Number of data points in each cluster:')\n",
    "print('Cluster 0:')\n",
    "print('Classlical Music (Class 0):\\t', cluster_0.loc[cluster_0['class'] == 0].shape[0])\n",
    "print('Instrumental (Class 1):\\t\\t', cluster_0.loc[cluster_0['class'] == 1].shape[0])\n",
    "print('Pop (Class 2):\\t\\t\\t', cluster_0.loc[cluster_0['class'] == 2].shape[0])\n",
    "print(\"\\n\")\n",
    "print('Cluster 1:')\n",
    "print('Classlical Music (Class 0):\\t', cluster_1.loc[cluster_1['class'] == 0].shape[0])\n",
    "print('Instrumental (Class 1):\\t\\t', cluster_1.loc[cluster_1['class'] == 1].shape[0])\n",
    "print('Pop (Class 2):\\t\\t\\t', cluster_1.loc[cluster_1['class'] == 2].shape[0])\n",
    "print(\"\\n\")\n",
    "print('Cluster 2:')\n",
    "print('Classlical Music (Class 0):\\t', cluster_2.loc[cluster_2['class'] == 0].shape[0])\n",
    "print('Instrumental (Class 1):\\t\\t', cluster_2.loc[cluster_2['class'] == 1].shape[0])\n",
    "print('Pop (Class 2):\\t\\t\\t', cluster_2.loc[cluster_2['class'] == 2].shape[0])"
   ]
  },
  {
   "cell_type": "markdown",
   "id": "infinite-scanner",
   "metadata": {},
   "source": [
    "From the results above we can observe the following:\n",
    "1. In `Cluster 0`, there are **116** and **242** data points from `Classlical Music (Class 0)` and `Class 1`, respectively.\n",
    "    - `Instrumental (Class 1)` is the promiment class in `Cluster 0`.\n",
    "2. In `Cluster 1`, there are **300** data points from `Pop (Class 2)`.\n",
    "    - `Pop (Class 2)` is the promiment class in `Cluster 1`.\n",
    "3. In `Cluster 2`, there are **184** and **58** data points from `Classlical Music (Class 0)` and `Instrumental (Class 1)`, respectively.\n",
    "    - `Classlical Music (Class 0)` is the promiment class in `Cluster 2`."
   ]
  },
  {
   "cell_type": "markdown",
   "id": "basic-league",
   "metadata": {},
   "source": [
    "# 4. Insights and Conclusions"
   ]
  },
  {
   "cell_type": "markdown",
   "id": "alleged-packaging",
   "metadata": {},
   "source": [
    "The result of the data mining shows us that Pop Music (Class 2) is linearly separable from the other two genres while the Classical and Instrumental Music are not linearly separable in terms of the 10 variables namely: Overtone, Amplitude, Pitch, Timbre, Rhythm, Harmony, Melody, Tempo, Duration, and Score Rating.\n",
    "\n",
    "Moreover, we know from the EDA that Pop Music is the most popular in terms of the score rating and it also has the highest average pitch. Aside from that, Pop Music also has the highest Overtone, Timbre, Rhythm, Harmony, Melody, Tempo, and Duration as we compare Cluster 1 to other Cluster."
   ]
  }
 ],
 "metadata": {
  "kernelspec": {
   "display_name": "Python 3",
   "language": "python",
   "name": "python3"
  },
  "language_info": {
   "codemirror_mode": {
    "name": "ipython",
    "version": 3
   },
   "file_extension": ".py",
   "mimetype": "text/x-python",
   "name": "python",
   "nbconvert_exporter": "python",
   "pygments_lexer": "ipython3",
   "version": "3.7.16"
  }
 },
 "nbformat": 4,
 "nbformat_minor": 5
}
