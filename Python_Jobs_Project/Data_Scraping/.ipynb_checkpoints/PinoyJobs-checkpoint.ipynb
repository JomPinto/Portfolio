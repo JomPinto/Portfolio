{
 "cells": [
  {
   "cell_type": "code",
   "execution_count": 2,
   "metadata": {},
   "outputs": [
    {
     "name": "stdout",
     "output_type": "stream",
     "text": [
      "Populating the interactive namespace from numpy and matplotlib\n"
     ]
    }
   ],
   "source": [
    "import os\n",
    "import math\n",
    "import pandas as pd\n",
    "import numpy as np\n",
    "import matplotlib.pyplot as plt\n",
    "import seaborn as sns\n",
    "import requests\n",
    "from bs4 import BeautifulSoup\n",
    "\n",
    "from scipy.stats import zscore\n",
    "\n",
    "%pylab inline"
   ]
  },
  {
   "cell_type": "code",
   "execution_count": 2,
   "metadata": {},
   "outputs": [],
   "source": [
    "URL = \"https://pinoyjobs.ph/job-hiring/category/it-programming-systems-networks/\"\n",
    "page=requests.get(URL)\n",
    "soup = BeautifulSoup(page.content, 'html.parser')"
   ]
  },
  {
   "cell_type": "code",
   "execution_count": 3,
   "metadata": {},
   "outputs": [
    {
     "name": "stdout",
     "output_type": "stream",
     "text": [
      "Found the URL: https://pinoyjobs.ph/job-hiring/salesforce-commerce-cloud-front-end-developer-bossjob-2557587/\n",
      "1\n",
      "Found the URL: https://pinoyjobs.ph/job-hiring/application-development-senior-programmer-bossjob-2556865/\n",
      "2\n",
      "Found the URL: https://pinoyjobs.ph/job-hiring/it-developer-bossjob-2556850/\n",
      "3\n",
      "Found the URL: https://pinoyjobs.ph/job-hiring/senior-automation-specialist-bossjob-2556346/\n",
      "4\n",
      "Found the URL: https://pinoyjobs.ph/job-hiring/master-data-associate-bossjob-2556129/\n",
      "5\n",
      "Found the URL: https://pinoyjobs.ph/job-hiring/core-connectivity-engineer-bossjob-2555680/\n",
      "6\n",
      "Found the URL: https://pinoyjobs.ph/job-hiring/application-and-database-developer-bossjob-2554675/\n",
      "7\n",
      "Found the URL: https://pinoyjobs.ph/job-hiring/back-end-developer-nodejs-home-based-bossjob-2554594/\n",
      "8\n",
      "Found the URL: https://pinoyjobs.ph/job-hiring/ppm-technical-consultant-bossjob-2549360/\n",
      "9\n",
      "Found the URL: https://pinoyjobs.ph/job-hiring/test-engineer-w-signing-bonus-bossjob-2548006/\n",
      "10\n",
      "Found the URL: https://pinoyjobs.ph/job-hiring/localization-project-manager-bossjob-2548004/\n",
      "11\n",
      "Found the URL: https://pinoyjobs.ph/job-hiring/it-enterprise-solutions-and-integration-manager-bossjob-2547985/\n",
      "12\n",
      "Found the URL: https://pinoyjobs.ph/job-hiring/junior-c-software-engineer-bossjob-2547690/\n",
      "13\n",
      "Found the URL: https://pinoyjobs.ph/job-hiring/senior-php-developer-day-shift-bossjob-2547673/\n",
      "14\n",
      "Found the URL: https://pinoyjobs.ph/job-hiring/net-develope-bossjob-2547670/\n",
      "15\n",
      "Found the URL: https://pinoyjobs.ph/job-hiring/etl-consultant-informatica-bossjob-2547404/\n",
      "16\n",
      "Found the URL: https://pinoyjobs.ph/job-hiring/php-developer-day-shift-alabang-bossjob-2547267/\n",
      "17\n",
      "Found the URL: https://pinoyjobs.ph/job-hiring/net-developer-mid-senior-level-bossjob-2547243/\n",
      "18\n",
      "Found the URL: https://pinoyjobs.ph/job-hiring/full-stack-developer-c-net-php-nodejs-agile-bossjob-2547241/\n",
      "19\n",
      "Found the URL: https://pinoyjobs.ph/job-hiring/business-analyst-technical-bossjob-2547238/\n",
      "20\n"
     ]
    }
   ],
   "source": [
    "jobURL_List = []\n",
    "i=0\n",
    "for div in soup.find_all('div', class_='card-content'):\n",
    "     for a in div.find_all('a', href=True):\n",
    "        jobURL_List.append(a['href'])\n",
    "        ##print(jobURL_List[1]\n",
    "        print (\"Found the URL:\", a['href'])\n",
    "        i=i+1\n",
    "        print(i)\n",
    "        \n"
   ]
  },
  {
   "cell_type": "code",
   "execution_count": 4,
   "metadata": {},
   "outputs": [
    {
     "name": "stdout",
     "output_type": "stream",
     "text": [
      "https://pinoyjobs.ph/job-hiring/salesforce-commerce-cloud-front-end-developer-bossjob-2557587/\n"
     ]
    }
   ],
   "source": [
    "jobURL = jobURL_List[0]\n",
    "print(jobURL)\n",
    "jobPage=requests.get(jobURL)\n",
    "soupJobs = BeautifulSoup(jobPage.content, 'html.parser')"
   ]
  },
  {
   "cell_type": "code",
   "execution_count": 5,
   "metadata": {},
   "outputs": [
    {
     "name": "stdout",
     "output_type": "stream",
     "text": [
      "Salesforce Commerce Cloud Front-End Developer\n"
     ]
    }
   ],
   "source": [
    "Job_Title = soupJobs.findAll(\"h1\", {\"itemprop\": \"title\"})\n",
    "print (Job_Title[0].text)"
   ]
  },
  {
   "cell_type": "code",
   "execution_count": 6,
   "metadata": {},
   "outputs": [
    {
     "name": "stdout",
     "output_type": "stream",
     "text": [
      "Full-time\n"
     ]
    }
   ],
   "source": [
    "Job_employmentType = soupJobs.findAll(\"li\", {\"itemprop\": \"employmentType\"})\n",
    "print (Job_employmentType[0].text)"
   ]
  },
  {
   "cell_type": "code",
   "execution_count": 7,
   "metadata": {},
   "outputs": [
    {
     "name": "stdout",
     "output_type": "stream",
     "text": [
      " Makati \n"
     ]
    }
   ],
   "source": [
    "Job_jobLocation = soupJobs.find_all('li',{\"itemprop\": \"addressLocality\"})\n",
    "print (Job_jobLocation[0].text)"
   ]
  },
  {
   "cell_type": "code",
   "execution_count": 8,
   "metadata": {},
   "outputs": [
    {
     "name": "stdout",
     "output_type": "stream",
     "text": [
      "Posted on November 19, 2020\n"
     ]
    }
   ],
   "source": [
    "Job_dateposted = soupJobs.find_all('li',{\"itemprop\": \"datePosted\"})\n",
    "print (Job_dateposted[0].text)"
   ]
  },
  {
   "cell_type": "code",
   "execution_count": 9,
   "metadata": {},
   "outputs": [
    {
     "name": "stdout",
     "output_type": "stream",
     "text": [
      "Description: \n",
      "• Take ownership over big components of our projects and always look for better, more efficient ways to reach your goals as well as project goals \n",
      "• Collaborate with an international team of Project Managers and Architects to understand client needs and communicate project progress \n",
      "• Write great code! Independently determine the best approach to solving complex business problems with technology \n",
      "• Keep our clients happy, but do not forget to have fun! \n",
      "• Consultancy is key for us, so you’ll work closely with our clients to agree the best technology strategy \n",
      "• Analyze client business needs and recommend innovative solutions that leverage technology to provide market differentiation, efficiency improvements, and better user experiences; \n",
      "• Collaborate with an international team of Project Managers and Architects to understand client needs and communicate project progress; \n",
      "• Write great code! Independently determine the best approach to solving complex business problems with technology; \n",
      "• Mentor more junior staff members and be a role model for best practices in technical development. \n",
      "Requirements: \n",
      "• Experience developing cross-browser and cross-platform markup, CSS, and JavaScript; \n",
      "• Experience working to translate wireframes and visual designs into functioning presentation layer markup, style, and interactions; \n",
      "• Knowledge of MVC architecture and object-oriented programming \n",
      "• Strong knowledge of software and user experience design patterns\n",
      "• 3-5 years demonstrated experience as a web interface developer; \n",
      "• Proficiency in writing both vanilla JavaScript, as well as common JavaScript frameworks, including jQuery, Angular, React, Vue; \n",
      "• Familiarity with web-software build tools including Grunt, Webpack, Babel, and NPM \n",
      "• Ability to collaborate with technical team members; \n",
      "• Experience using web application frameworks is a plus (e.g., Symfony, Drupal, Magento, Hybris, SalesForce); \n",
      "• E-commerce or similar web experience is strongly preferred; \n",
      "• Fluent in English, verbal and written communications; \n",
      "• Excellent time management and strong multi-tasking skills. \n",
      "• Demandware \n",
      "• Availability for scheduled on call\n",
      "₱60000 - ₱120000\n"
     ]
    }
   ],
   "source": [
    "for div in soupJobs.find_all('div', {\"itemprop\": \"description\"}):\n",
    "        Job_desc = div.find_all(\"p\")\n",
    "        for i in range(len(Job_desc)):\n",
    "            print (Job_desc[i].text)\n",
    "            \n",
    "Job_salary = soupJobs.find_all('i', {\"itemprop\": \"salary\"})\n",
    "print(Job_salary[0].text)\n",
    "            \n",
    "        \n"
   ]
  },
  {
   "cell_type": "code",
   "execution_count": 10,
   "metadata": {},
   "outputs": [
    {
     "name": "stdout",
     "output_type": "stream",
     "text": [
      "Homebased\n"
     ]
    }
   ],
   "source": [
    "test = soupJobs.find_all('i')\n",
    "print (test[len(test)-1].text)\n",
    "        "
   ]
  },
  {
   "cell_type": "markdown",
   "metadata": {},
   "source": [
    "# Test"
   ]
  },
  {
   "cell_type": "code",
   "execution_count": 10,
   "metadata": {},
   "outputs": [],
   "source": [
    "PinoyJobs_URL_List = []\n",
    "PinoyJobs_URL_List.append(\"https://pinoyjobs.ph/job-hiring/category/engineering-construction-electrical/\")\n",
    "PinoyJobs_URL_List.append(\"https://pinoyjobs.ph/job-hiring/category/it-programming-systems-networks/\")\n",
    "PinoyJobs_URL_List.append(\"https://pinoyjobs.ph/job-hiring/category/manufacturing-production/\")\n",
    "PinoyJobs_URL_List.append(\"https://pinoyjobs.ph/job-hiring/category/nursing-medical-dental-health/\")\n",
    "PinoyJobs_URL_List.append(\"https://pinoyjobs.ph/job-hiring/category/sciences-lab-research/\")\n",
    "PinoyJobs_URL_List.append(\"https://pinoyjobs.ph/job-hiring/category/web-development-design-html-seo/\")\n",
    "job_title_list = []\n",
    "job_employment_type_list = []\n",
    "job_jobLocation_list = []\n",
    "job_dateposted_list = []\n",
    "job_desc_list = []\n",
    "job_salary_list = []\n",
    "job_location_list = []\n",
    "job_type_list = []\n",
    "comapny_name_list = []\n",
    "for web_URL in range(len(PinoyJobs_URL_List)):\n",
    "    URL = PinoyJobs_URL_List[web_URL]\n",
    "    page=requests.get(URL)\n",
    "    soup = BeautifulSoup(page.content, 'html.parser')\n",
    "    for ul in soup.find_all('ul', {\"class\": \"pagination hide-on-small-only\"}):\n",
    "        page_num = ul.find_all(\"li\")\n",
    "        max_page = page_num[len(page_num)-2]\n",
    "        #print(page_num[len(page_num)-2].text)\n",
    "    for web_pages in range(0,1): ##max_page\n",
    "        URL = PinoyJobs_URL_List[web_URL] + \"page/{}/\".format(web_pages)\n",
    "        page=requests.get(URL)\n",
    "        soup = BeautifulSoup(page.content, 'html.parser')\n",
    "        jobURL_List = []\n",
    "        for div in soup.find_all('div', class_='card-content'):\n",
    "             for a in div.find_all('a', href=True):\n",
    "                jobURL_List.append(a['href'])\n",
    "                ##print (\"Found the URL:\", a['href'])\n",
    "        for k in range(1): ##len(jobURL_List)\n",
    "            jobURL = jobURL_List[k]\n",
    "            ##print(jobURL)\n",
    "            jobPage=requests.get(jobURL)\n",
    "            soupJobs = BeautifulSoup(jobPage.content, 'html.parser')\n",
    "\n",
    "            job_type = soup.findAll(\"h1\")\n",
    "            #print(job_type[0].text)\n",
    "            job_type_list.append(job_type[0].text)\n",
    "\n",
    "            Job_title = soupJobs.findAll(\"h1\", {\"itemprop\": \"title\"})\n",
    "            #print (titleinfo[0].text)\n",
    "            job_title_list.append(Job_title[0].text)\n",
    "\n",
    "            Company_name = soupJobs.find_all('h5',{\"itemprop\": \"hiringOrganization\"})\n",
    "            ##print (Company_name[0].text)\n",
    "            comapny_name_list.append(Company_name[0].text)\n",
    "\n",
    "            Job_employmentType = soupJobs.findAll(\"li\", {\"itemprop\": \"employmentType\"})\n",
    "            #print (Job_employmentType[0].text)\n",
    "            job_employment_type_list.append(Job_employmentType[0].text)\n",
    "\n",
    "            Job_jobLocation = soupJobs.find_all('li',{\"itemprop\": \"addressLocality\"})\n",
    "            #print (Job_jobLocation[0].text)\n",
    "            job_jobLocation_list.append(Job_jobLocation[0].text)\n",
    "\n",
    "            Job_dateposted = soupJobs.find_all('li',{\"itemprop\": \"datePosted\"})\n",
    "            #print (Job_dateposted[0].text)\n",
    "            job_dateposted_list.append(Job_dateposted[0].text)\n",
    "\n",
    "            Job_desc =  soupJobs.find_all('div', {\"itemprop\": \"description\"})\n",
    "            #print (Job_desc[0].text)\n",
    "            job_desc_list.append(Job_desc[0].text)\n",
    "\n",
    "            Job_salary = soupJobs.find_all('i', {\"itemprop\": \"salary\"})\n",
    "            #print(Job_salary[0].text)\n",
    "            job_salary_list.append(Job_salary[0].text)\n",
    "\n",
    "            Job_location = soupJobs.find_all('i')\n",
    "            #print (Job_location[len(Job_location)-1].text)\n",
    "            job_location_list.append(Job_location[len(Job_location)-1].text)\n",
    "\n",
    "    jobs_data={'Job Type': job_type_list,\n",
    "               'Job Title': job_title_list, \n",
    "               'Company': comapny_name_list,\n",
    "               'Status': job_employment_type_list, \n",
    "               'Office Location': job_jobLocation_list, \n",
    "               'Date Posted': job_dateposted_list, \n",
    "               'Job Description': job_desc_list,\n",
    "               'Salary': job_salary_list,\n",
    "               'Location': job_location_list}\n",
    "    pinoy_jobs_df = pd.DataFrame(data=jobs_data)"
   ]
  },
  {
   "cell_type": "code",
   "execution_count": 11,
   "metadata": {},
   "outputs": [
    {
     "data": {
      "text/html": [
       "<div>\n",
       "<style scoped>\n",
       "    .dataframe tbody tr th:only-of-type {\n",
       "        vertical-align: middle;\n",
       "    }\n",
       "\n",
       "    .dataframe tbody tr th {\n",
       "        vertical-align: top;\n",
       "    }\n",
       "\n",
       "    .dataframe thead th {\n",
       "        text-align: right;\n",
       "    }\n",
       "</style>\n",
       "<table border=\"1\" class=\"dataframe\">\n",
       "  <thead>\n",
       "    <tr style=\"text-align: right;\">\n",
       "      <th></th>\n",
       "      <th>Job Type</th>\n",
       "      <th>Job Title</th>\n",
       "      <th>Company</th>\n",
       "      <th>Status</th>\n",
       "      <th>Office Location</th>\n",
       "      <th>Date Posted</th>\n",
       "      <th>Job Description</th>\n",
       "      <th>Salary</th>\n",
       "      <th>Location</th>\n",
       "    </tr>\n",
       "  </thead>\n",
       "  <tbody>\n",
       "    <tr>\n",
       "      <th>0</th>\n",
       "      <td>Jobs in Engineering, Construction &amp; Electrical</td>\n",
       "      <td>Project Manager</td>\n",
       "      <td>C.M Pancho Construction Inc.</td>\n",
       "      <td>Full-time</td>\n",
       "      <td>Quezon City</td>\n",
       "      <td>Posted on January 17, 2020</td>\n",
       "      <td>Description: Responsible for the performance a...</td>\n",
       "      <td>₱40,000 - ₱80,000</td>\n",
       "      <td>The Forum Bldg., #71-A Scout Borromeo St. Brgy...</td>\n",
       "    </tr>\n",
       "    <tr>\n",
       "      <th>1</th>\n",
       "      <td>Jobs in IT, Programming, Systems &amp; Networks</td>\n",
       "      <td>Salesforce Commerce Cloud Front-End Developer</td>\n",
       "      <td>HCM Nexus</td>\n",
       "      <td>Full-time</td>\n",
       "      <td>Makati</td>\n",
       "      <td>Posted on November 19, 2020</td>\n",
       "      <td>Description: • Take ownership over big compone...</td>\n",
       "      <td>₱60000 - ₱120000</td>\n",
       "      <td>Homebased</td>\n",
       "    </tr>\n",
       "    <tr>\n",
       "      <th>2</th>\n",
       "      <td>Jobs in Manufacturing, Production</td>\n",
       "      <td>Junior Paint Chemist – Cabuyao, Laguna</td>\n",
       "      <td>Super Globe, Inc.</td>\n",
       "      <td>Full-time</td>\n",
       "      <td>Cabuyao</td>\n",
       "      <td>Posted on May 30, 2020</td>\n",
       "      <td>Work : Monday – SaturdayWork time: 7:30am – 4:...</td>\n",
       "      <td>upon interview</td>\n",
       "      <td>Cabuyao, Laguna</td>\n",
       "    </tr>\n",
       "    <tr>\n",
       "      <th>3</th>\n",
       "      <td>Jobs in Nursing, Medical, Dental &amp; Health</td>\n",
       "      <td>Therapist (Registered Nurse)</td>\n",
       "      <td>KimRey Face and Body Contouring Lounge Inc.</td>\n",
       "      <td>Full-time</td>\n",
       "      <td>Quezon City</td>\n",
       "      <td>Posted on August 20, 2019</td>\n",
       "      <td>Description: The Nurse performs variety of fac...</td>\n",
       "      <td>₱15000 - ₱20000</td>\n",
       "      <td>Units 8 &amp; 9 3/F Richmond Centre 8011 E. Rodrig...</td>\n",
       "    </tr>\n",
       "    <tr>\n",
       "      <th>4</th>\n",
       "      <td>Jobs in Sciences, Lab, R&amp;D</td>\n",
       "      <td>Chemist</td>\n",
       "      <td>Metro Cleanwaste Corporation</td>\n",
       "      <td>Full-time</td>\n",
       "      <td>Calamba</td>\n",
       "      <td>Posted on August 22, 2019</td>\n",
       "      <td>Description: – Performs physical and chemical ...</td>\n",
       "      <td>₱10000 - ₱15000</td>\n",
       "      <td>103 Progress Avenue, P1 GIZ, Carmelray Industr...</td>\n",
       "    </tr>\n",
       "    <tr>\n",
       "      <th>5</th>\n",
       "      <td>Jobs in Web Development &amp; Design, HTML, SEO</td>\n",
       "      <td>Web Developer</td>\n",
       "      <td>getFIFO</td>\n",
       "      <td>Full-time</td>\n",
       "      <td>Manila</td>\n",
       "      <td>Posted on April 17, 2019</td>\n",
       "      <td>getFIFO.io is looking for a new FULL TIME Back...</td>\n",
       "      <td>Negotiable</td>\n",
       "      <td>Online</td>\n",
       "    </tr>\n",
       "  </tbody>\n",
       "</table>\n",
       "</div>"
      ],
      "text/plain": [
       "                                         Job Type  \\\n",
       "0  Jobs in Engineering, Construction & Electrical   \n",
       "1     Jobs in IT, Programming, Systems & Networks   \n",
       "2               Jobs in Manufacturing, Production   \n",
       "3       Jobs in Nursing, Medical, Dental & Health   \n",
       "4                      Jobs in Sciences, Lab, R&D   \n",
       "5     Jobs in Web Development & Design, HTML, SEO   \n",
       "\n",
       "                                       Job Title  \\\n",
       "0                                Project Manager   \n",
       "1  Salesforce Commerce Cloud Front-End Developer   \n",
       "2         Junior Paint Chemist – Cabuyao, Laguna   \n",
       "3                   Therapist (Registered Nurse)   \n",
       "4                                        Chemist   \n",
       "5                                  Web Developer   \n",
       "\n",
       "                                       Company     Status Office Location  \\\n",
       "0                 C.M Pancho Construction Inc.  Full-time    Quezon City    \n",
       "1                                    HCM Nexus  Full-time         Makati    \n",
       "2                            Super Globe, Inc.  Full-time        Cabuyao    \n",
       "3  KimRey Face and Body Contouring Lounge Inc.  Full-time    Quezon City    \n",
       "4                 Metro Cleanwaste Corporation  Full-time        Calamba    \n",
       "5                                      getFIFO  Full-time         Manila    \n",
       "\n",
       "                   Date Posted  \\\n",
       "0   Posted on January 17, 2020   \n",
       "1  Posted on November 19, 2020   \n",
       "2       Posted on May 30, 2020   \n",
       "3    Posted on August 20, 2019   \n",
       "4    Posted on August 22, 2019   \n",
       "5     Posted on April 17, 2019   \n",
       "\n",
       "                                     Job Description             Salary  \\\n",
       "0  Description: Responsible for the performance a...  ₱40,000 - ₱80,000   \n",
       "1  Description: • Take ownership over big compone...   ₱60000 - ₱120000   \n",
       "2  Work : Monday – SaturdayWork time: 7:30am – 4:...     upon interview   \n",
       "3  Description: The Nurse performs variety of fac...    ₱15000 - ₱20000   \n",
       "4  Description: – Performs physical and chemical ...    ₱10000 - ₱15000   \n",
       "5  getFIFO.io is looking for a new FULL TIME Back...         Negotiable   \n",
       "\n",
       "                                            Location  \n",
       "0  The Forum Bldg., #71-A Scout Borromeo St. Brgy...  \n",
       "1                                          Homebased  \n",
       "2                                    Cabuyao, Laguna  \n",
       "3  Units 8 & 9 3/F Richmond Centre 8011 E. Rodrig...  \n",
       "4  103 Progress Avenue, P1 GIZ, Carmelray Industr...  \n",
       "5                                             Online  "
      ]
     },
     "execution_count": 11,
     "metadata": {},
     "output_type": "execute_result"
    }
   ],
   "source": [
    "pinoy_jobs_df"
   ]
  },
  {
   "cell_type": "code",
   "execution_count": 19,
   "metadata": {},
   "outputs": [
    {
     "name": "stdout",
     "output_type": "stream",
     "text": [
      "Eteam Workforce Private Corp.\n"
     ]
    }
   ],
   "source": [
    "Company_name = soupJobs.find_all('h5',{\"itemprop\": \"hiringOrganization\"})\n",
    "print (Company_name[0].text)"
   ]
  },
  {
   "cell_type": "code",
   "execution_count": 8,
   "metadata": {},
   "outputs": [
    {
     "name": "stdout",
     "output_type": "stream",
     "text": [
      "https://pinoyjobs.ph/job-hiring/category/it-programming-systems-networks/page/1/\n"
     ]
    }
   ],
   "source": [
    "PinoyJobs_URL_List = []\n",
    "PinoyJobs_URL_List.append(\"https://pinoyjobs.ph/job-hiring/category/engineering-construction-electrical/\")\n",
    "PinoyJobs_URL_List.append(\"https://pinoyjobs.ph/job-hiring/category/it-programming-systems-networks/\")\n",
    "PinoyJobs_URL_List.append(\"https://pinoyjobs.ph/job-hiring/category/manufacturing-production/\")\n",
    "PinoyJobs_URL_List.append(\"https://pinoyjobs.ph/job-hiring/category/nursing-medical-dental-health/\")\n",
    "PinoyJobs_URL_List.append(\"https://pinoyjobs.ph/job-hiring/category/sciences-lab-research/\")\n",
    "PinoyJobs_URL_List.append(\"https://pinoyjobs.ph/job-hiring/category/web-development-design-html-seo/\")\n",
    "\n",
    "#for i in range(len(PinoyJobs_URL_List)):\n",
    "#    print(PinoyJobs_URL_List[i] + \"page/{}/\".format(i))\n",
    "    \n",
    "URL = PinoyJobs_URL_List[1] + \"page/{}/\".format(1)\n",
    "print (URL)\n"
   ]
  },
  {
   "cell_type": "code",
   "execution_count": null,
   "metadata": {},
   "outputs": [],
   "source": []
  }
 ],
 "metadata": {
  "kernelspec": {
   "display_name": "Python 3",
   "language": "python",
   "name": "python3"
  },
  "language_info": {
   "codemirror_mode": {
    "name": "ipython",
    "version": 3
   },
   "file_extension": ".py",
   "mimetype": "text/x-python",
   "name": "python",
   "nbconvert_exporter": "python",
   "pygments_lexer": "ipython3",
   "version": "3.7.10"
  }
 },
 "nbformat": 4,
 "nbformat_minor": 4
}
